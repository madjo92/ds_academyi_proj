{
 "cells": [
  {
   "cell_type": "markdown",
   "id": "4d76528e",
   "metadata": {},
   "source": [
    "# Exploratory Data Analysis\n"
   ]
  },
  {
   "cell_type": "markdown",
   "id": "90ee08f4",
   "metadata": {},
   "source": [
    " "
   ]
  },
  {
   "cell_type": "markdown",
   "id": "603e665a",
   "metadata": {},
   "source": [
    "#### Importing libraries"
   ]
  },
  {
   "cell_type": "code",
   "execution_count": 62,
   "id": "31ad63c4",
   "metadata": {},
   "outputs": [],
   "source": [
    "import numpy as np\n",
    "import pandas as pd\n",
    "import matplotlib.pyplot as plt\n",
    "import seaborn as sns"
   ]
  },
  {
   "cell_type": "markdown",
   "id": "c230b9fd",
   "metadata": {},
   "source": [
    "### Finishing with cleaning and preparing for Exploratory Data Analysis"
   ]
  },
  {
   "cell_type": "markdown",
   "id": "a1f83f67",
   "metadata": {},
   "source": [
    "reading the *academy_international_movies_final.csv* file"
   ]
  },
  {
   "cell_type": "code",
   "execution_count": 63,
   "id": "9d1f4f1f",
   "metadata": {},
   "outputs": [],
   "source": [
    "academy = pd.read_csv(\"academy_international_movies_final.csv\")"
   ]
  },
  {
   "cell_type": "code",
   "execution_count": 64,
   "id": "5e071f44",
   "metadata": {},
   "outputs": [
    {
     "data": {
      "text/html": [
       "<div>\n",
       "<style scoped>\n",
       "    .dataframe tbody tr th:only-of-type {\n",
       "        vertical-align: middle;\n",
       "    }\n",
       "\n",
       "    .dataframe tbody tr th {\n",
       "        vertical-align: top;\n",
       "    }\n",
       "\n",
       "    .dataframe thead th {\n",
       "        text-align: right;\n",
       "    }\n",
       "</style>\n",
       "<table border=\"1\" class=\"dataframe\">\n",
       "  <thead>\n",
       "    <tr style=\"text-align: right;\">\n",
       "      <th></th>\n",
       "      <th>Unnamed: 0</th>\n",
       "      <th>title</th>\n",
       "      <th>Directed by</th>\n",
       "      <th>Written by</th>\n",
       "      <th>Produced by</th>\n",
       "      <th>Starring</th>\n",
       "      <th>Cinematography</th>\n",
       "      <th>Edited by</th>\n",
       "      <th>Music by</th>\n",
       "      <th>Distributed by</th>\n",
       "      <th>...</th>\n",
       "      <th>Romanized</th>\n",
       "      <th>Russian</th>\n",
       "      <th>Hungarian</th>\n",
       "      <th>Polish</th>\n",
       "      <th>German</th>\n",
       "      <th>Hangul</th>\n",
       "      <th>Revised Romanization</th>\n",
       "      <th>McCune–Reischauer</th>\n",
       "      <th>Chinese</th>\n",
       "      <th>Romanian</th>\n",
       "    </tr>\n",
       "  </thead>\n",
       "  <tbody>\n",
       "    <tr>\n",
       "      <th>326</th>\n",
       "      <td>326</td>\n",
       "      <td>Pain and Glory</td>\n",
       "      <td>['Pedro Almodóvar']</td>\n",
       "      <td>Pedro Almodóvar</td>\n",
       "      <td>['Agustín Almodóvar', 'Esther García', 'Ricard...</td>\n",
       "      <td>['Antonio Banderas', 'Asier Etxeandia', 'Leona...</td>\n",
       "      <td>José Luis Alcaine</td>\n",
       "      <td>Teresa Font</td>\n",
       "      <td>Alberto Iglesias</td>\n",
       "      <td>Sony Pictures Releasing International</td>\n",
       "      <td>...</td>\n",
       "      <td>NaN</td>\n",
       "      <td>NaN</td>\n",
       "      <td>NaN</td>\n",
       "      <td>NaN</td>\n",
       "      <td>NaN</td>\n",
       "      <td>NaN</td>\n",
       "      <td>NaN</td>\n",
       "      <td>NaN</td>\n",
       "      <td>NaN</td>\n",
       "      <td>NaN</td>\n",
       "    </tr>\n",
       "    <tr>\n",
       "      <th>327</th>\n",
       "      <td>327</td>\n",
       "      <td>Another Round</td>\n",
       "      <td>Thomas Vinterberg</td>\n",
       "      <td>['Thomas Vinterberg', 'Tobias Lindholm']</td>\n",
       "      <td>['Sisse Graum Jørgensen', 'Kasper Dissing']</td>\n",
       "      <td>['Mads Mikkelsen', 'Thomas Bo Larsen', 'Magnus...</td>\n",
       "      <td>Sturla Brandth Grøvlen</td>\n",
       "      <td>['Anne Østerud', 'Janus Billeskov Jansen']</td>\n",
       "      <td>Janus Billeskov Jansen</td>\n",
       "      <td>['Nordisk Film (Scandinavia)', 'September Film...</td>\n",
       "      <td>...</td>\n",
       "      <td>NaN</td>\n",
       "      <td>NaN</td>\n",
       "      <td>NaN</td>\n",
       "      <td>NaN</td>\n",
       "      <td>NaN</td>\n",
       "      <td>NaN</td>\n",
       "      <td>NaN</td>\n",
       "      <td>NaN</td>\n",
       "      <td>NaN</td>\n",
       "      <td>NaN</td>\n",
       "    </tr>\n",
       "    <tr>\n",
       "      <th>328</th>\n",
       "      <td>328</td>\n",
       "      <td>Better Days</td>\n",
       "      <td>Derek Tsang</td>\n",
       "      <td>['Lam Wing Sum', 'Li Yuan', 'Xu Yimeng']</td>\n",
       "      <td>Xu Yuezhen</td>\n",
       "      <td>['Zhou Dongyu', 'Jackson Yee']</td>\n",
       "      <td>Yu Jing-Pin</td>\n",
       "      <td>Zhang Yibo</td>\n",
       "      <td>Varqa Buehrer</td>\n",
       "      <td>['Lian Rui Pictures', 'Shanghai Taopiaopiao Fi...</td>\n",
       "      <td>...</td>\n",
       "      <td>NaN</td>\n",
       "      <td>NaN</td>\n",
       "      <td>NaN</td>\n",
       "      <td>NaN</td>\n",
       "      <td>NaN</td>\n",
       "      <td>NaN</td>\n",
       "      <td>NaN</td>\n",
       "      <td>NaN</td>\n",
       "      <td>NaN</td>\n",
       "      <td>NaN</td>\n",
       "    </tr>\n",
       "    <tr>\n",
       "      <th>329</th>\n",
       "      <td>329</td>\n",
       "      <td>Collective</td>\n",
       "      <td>Alexander Nanau</td>\n",
       "      <td>['Alexander Nanau', 'Antoaneta Opriș']</td>\n",
       "      <td>['Alexander Nanau', 'Bernard Michaux', 'Hanka ...</td>\n",
       "      <td>NaN</td>\n",
       "      <td>Alexander Nanau</td>\n",
       "      <td>['Alexander Nanau', 'George Cragg', 'Dana Bune...</td>\n",
       "      <td>Kyan Bayani</td>\n",
       "      <td>['Bad Unicorn', 'HBO Europe', 'Magnolia Pictur...</td>\n",
       "      <td>...</td>\n",
       "      <td>NaN</td>\n",
       "      <td>NaN</td>\n",
       "      <td>NaN</td>\n",
       "      <td>NaN</td>\n",
       "      <td>NaN</td>\n",
       "      <td>NaN</td>\n",
       "      <td>NaN</td>\n",
       "      <td>NaN</td>\n",
       "      <td>NaN</td>\n",
       "      <td>Colectiv</td>\n",
       "    </tr>\n",
       "    <tr>\n",
       "      <th>330</th>\n",
       "      <td>330</td>\n",
       "      <td>The Man Who Sold His Skin</td>\n",
       "      <td>Kaouther Ben Hania</td>\n",
       "      <td>Kaouther Ben Hania</td>\n",
       "      <td>['Habib Attia', 'Nadim Cheikhrouha', 'Martin H...</td>\n",
       "      <td>['Yahya Mahayni', 'Dea Liane', 'Koen De Bouw',...</td>\n",
       "      <td>Christopher Aoun</td>\n",
       "      <td>Marie-Hélène Dozo</td>\n",
       "      <td>Amine Bouhafa</td>\n",
       "      <td>NaN</td>\n",
       "      <td>...</td>\n",
       "      <td>NaN</td>\n",
       "      <td>NaN</td>\n",
       "      <td>NaN</td>\n",
       "      <td>NaN</td>\n",
       "      <td>NaN</td>\n",
       "      <td>NaN</td>\n",
       "      <td>NaN</td>\n",
       "      <td>NaN</td>\n",
       "      <td>NaN</td>\n",
       "      <td>NaN</td>\n",
       "    </tr>\n",
       "  </tbody>\n",
       "</table>\n",
       "<p>5 rows × 59 columns</p>\n",
       "</div>"
      ],
      "text/plain": [
       "     Unnamed: 0                      title          Directed by  \\\n",
       "326         326             Pain and Glory  ['Pedro Almodóvar']   \n",
       "327         327              Another Round    Thomas Vinterberg   \n",
       "328         328                Better Days          Derek Tsang   \n",
       "329         329                 Collective      Alexander Nanau   \n",
       "330         330  The Man Who Sold His Skin   Kaouther Ben Hania   \n",
       "\n",
       "                                   Written by  \\\n",
       "326                           Pedro Almodóvar   \n",
       "327  ['Thomas Vinterberg', 'Tobias Lindholm']   \n",
       "328  ['Lam Wing Sum', 'Li Yuan', 'Xu Yimeng']   \n",
       "329    ['Alexander Nanau', 'Antoaneta Opriș']   \n",
       "330                        Kaouther Ben Hania   \n",
       "\n",
       "                                           Produced by  \\\n",
       "326  ['Agustín Almodóvar', 'Esther García', 'Ricard...   \n",
       "327        ['Sisse Graum Jørgensen', 'Kasper Dissing']   \n",
       "328                                         Xu Yuezhen   \n",
       "329  ['Alexander Nanau', 'Bernard Michaux', 'Hanka ...   \n",
       "330  ['Habib Attia', 'Nadim Cheikhrouha', 'Martin H...   \n",
       "\n",
       "                                              Starring  \\\n",
       "326  ['Antonio Banderas', 'Asier Etxeandia', 'Leona...   \n",
       "327  ['Mads Mikkelsen', 'Thomas Bo Larsen', 'Magnus...   \n",
       "328                     ['Zhou Dongyu', 'Jackson Yee']   \n",
       "329                                                NaN   \n",
       "330  ['Yahya Mahayni', 'Dea Liane', 'Koen De Bouw',...   \n",
       "\n",
       "             Cinematography  \\\n",
       "326       José Luis Alcaine   \n",
       "327  Sturla Brandth Grøvlen   \n",
       "328             Yu Jing-Pin   \n",
       "329         Alexander Nanau   \n",
       "330        Christopher Aoun   \n",
       "\n",
       "                                             Edited by  \\\n",
       "326                                        Teresa Font   \n",
       "327         ['Anne Østerud', 'Janus Billeskov Jansen']   \n",
       "328                                         Zhang Yibo   \n",
       "329  ['Alexander Nanau', 'George Cragg', 'Dana Bune...   \n",
       "330                                  Marie-Hélène Dozo   \n",
       "\n",
       "                   Music by  \\\n",
       "326        Alberto Iglesias   \n",
       "327  Janus Billeskov Jansen   \n",
       "328           Varqa Buehrer   \n",
       "329             Kyan Bayani   \n",
       "330           Amine Bouhafa   \n",
       "\n",
       "                                        Distributed by  ... Romanized Russian  \\\n",
       "326              Sony Pictures Releasing International  ...       NaN     NaN   \n",
       "327  ['Nordisk Film (Scandinavia)', 'September Film...  ...       NaN     NaN   \n",
       "328  ['Lian Rui Pictures', 'Shanghai Taopiaopiao Fi...  ...       NaN     NaN   \n",
       "329  ['Bad Unicorn', 'HBO Europe', 'Magnolia Pictur...  ...       NaN     NaN   \n",
       "330                                                NaN  ...       NaN     NaN   \n",
       "\n",
       "    Hungarian Polish German Hangul  Revised Romanization  McCune–Reischauer  \\\n",
       "326       NaN    NaN    NaN    NaN                   NaN                NaN   \n",
       "327       NaN    NaN    NaN    NaN                   NaN                NaN   \n",
       "328       NaN    NaN    NaN    NaN                   NaN                NaN   \n",
       "329       NaN    NaN    NaN    NaN                   NaN                NaN   \n",
       "330       NaN    NaN    NaN    NaN                   NaN                NaN   \n",
       "\n",
       "    Chinese  Romanian  \n",
       "326     NaN       NaN  \n",
       "327     NaN       NaN  \n",
       "328     NaN       NaN  \n",
       "329     NaN  Colectiv  \n",
       "330     NaN       NaN  \n",
       "\n",
       "[5 rows x 59 columns]"
      ]
     },
     "execution_count": 64,
     "metadata": {},
     "output_type": "execute_result"
    }
   ],
   "source": [
    "academy.tail()"
   ]
  },
  {
   "cell_type": "code",
   "execution_count": 65,
   "id": "f69f8b53",
   "metadata": {},
   "outputs": [
    {
     "name": "stdout",
     "output_type": "stream",
     "text": [
      "<class 'pandas.core.frame.DataFrame'>\n",
      "RangeIndex: 331 entries, 0 to 330\n",
      "Data columns (total 59 columns):\n",
      " #   Column                   Non-Null Count  Dtype  \n",
      "---  ------                   --------------  -----  \n",
      " 0   Unnamed: 0               331 non-null    int64  \n",
      " 1   title                    330 non-null    object \n",
      " 2   Directed by              331 non-null    object \n",
      " 3   Written by               255 non-null    object \n",
      " 4   Produced by              289 non-null    object \n",
      " 5   Starring                 319 non-null    object \n",
      " 6   Cinematography           304 non-null    object \n",
      " 7   Edited by                280 non-null    object \n",
      " 8   Music by                 277 non-null    object \n",
      " 9   Distributed by           249 non-null    object \n",
      " 10  Release date             327 non-null    object \n",
      " 11  Running time             329 non-null    object \n",
      " 12  Country                  213 non-null    object \n",
      " 13  Language                 234 non-null    object \n",
      " 14  Running time (int)       329 non-null    object \n",
      " 15  Release date (datetime)  288 non-null    object \n",
      " 16  imdb                     181 non-null    float64\n",
      " 17  metascore                56 non-null     float64\n",
      " 18  rotten_tomatoes          90 non-null     object \n",
      " 19  plot                     191 non-null    object \n",
      " 20  genre                    217 non-null    object \n",
      " 21  awards                   142 non-null    object \n",
      " 22  Screenplay by            73 non-null     object \n",
      " 23  Story by                 22 non-null     object \n",
      " 24  Based on                 71 non-null     object \n",
      " 25  Production company       65 non-null     object \n",
      " 26  Budget                   109 non-null    object \n",
      " 27  Box office               166 non-null    object \n",
      " 28  Production companies     102 non-null    object \n",
      " 29  Countries                117 non-null    object \n",
      " 30  Languages                96 non-null     object \n",
      " 31  Narrated by              6 non-null      object \n",
      " 32  Portuguese               1 non-null      object \n",
      " 33  Japanese                 0 non-null      float64\n",
      " 34  Hepburn                  2 non-null      object \n",
      " 35  French                   5 non-null      object \n",
      " 36  Color process            1 non-null      object \n",
      " 37  Literally                7 non-null      object \n",
      " 38  Dutch                    1 non-null      object \n",
      " 39  Spanish                  7 non-null      object \n",
      " 40  Traditional              0 non-null      float64\n",
      " 41  Simplified               0 non-null      float64\n",
      " 42  Mandarin                 7 non-null      object \n",
      " 43  Dialogue by              1 non-null      object \n",
      " 44  Cantonese                0 non-null      float64\n",
      " 45  Italian                  1 non-null      object \n",
      " 46  Danish                   4 non-null      object \n",
      " 47  Original title           1 non-null      object \n",
      " 48  Arabic                   1 non-null      object \n",
      " 49  Romanized                2 non-null      object \n",
      " 50  Russian                  1 non-null      object \n",
      " 51  Hungarian                1 non-null      object \n",
      " 52  Polish                   2 non-null      object \n",
      " 53  German                   1 non-null      object \n",
      " 54  Hangul                   0 non-null      float64\n",
      " 55  Revised Romanization     1 non-null      object \n",
      " 56  McCune–Reischauer        1 non-null      object \n",
      " 57  Chinese                  0 non-null      float64\n",
      " 58  Romanian                 1 non-null      object \n",
      "dtypes: float64(8), int64(1), object(50)\n",
      "memory usage: 152.7+ KB\n"
     ]
    }
   ],
   "source": [
    "academy.info()"
   ]
  },
  {
   "cell_type": "markdown",
   "id": "04d5d670",
   "metadata": {},
   "source": [
    "I will drop all the columns between 31-58"
   ]
  },
  {
   "cell_type": "code",
   "execution_count": 66,
   "id": "a1fde256",
   "metadata": {},
   "outputs": [
    {
     "data": {
      "text/plain": [
       "Index(['Unnamed: 0', 'title', 'Directed by', 'Written by', 'Produced by',\n",
       "       'Starring', 'Cinematography', 'Edited by', 'Music by', 'Distributed by',\n",
       "       'Release date', 'Running time', 'Country', 'Language',\n",
       "       'Running time (int)', 'Release date (datetime)', 'imdb', 'metascore',\n",
       "       'rotten_tomatoes', 'plot', 'genre', 'awards', 'Screenplay by',\n",
       "       'Story by', 'Based on', 'Production company', 'Budget', 'Box office',\n",
       "       'Production companies', 'Countries', 'Languages', 'Narrated by',\n",
       "       'Portuguese', 'Japanese', 'Hepburn', 'French', 'Color process',\n",
       "       'Literally', 'Dutch', 'Spanish', 'Traditional', 'Simplified',\n",
       "       'Mandarin', 'Dialogue by', 'Cantonese', 'Italian', 'Danish',\n",
       "       'Original title', 'Arabic', 'Romanized', 'Russian', 'Hungarian',\n",
       "       'Polish', 'German', 'Hangul', 'Revised Romanization',\n",
       "       'McCune–Reischauer', 'Chinese', 'Romanian'],\n",
       "      dtype='object')"
      ]
     },
     "execution_count": 66,
     "metadata": {},
     "output_type": "execute_result"
    }
   ],
   "source": [
    "academy.columns"
   ]
  },
  {
   "cell_type": "code",
   "execution_count": 67,
   "id": "06f22030",
   "metadata": {},
   "outputs": [],
   "source": [
    "academy=academy.drop(['Unnamed: 0','Narrated by',\n",
    "       'Portuguese', 'Japanese', 'Hepburn', 'French', 'Color process',\n",
    "       'Literally', 'Dutch', 'Spanish', 'Traditional', 'Simplified',\n",
    "       'Mandarin', 'Dialogue by', 'Cantonese', 'Italian', 'Danish',\n",
    "       'Original title', 'Arabic', 'Romanized', 'Russian', 'Hungarian',\n",
    "       'Polish', 'German', 'Hangul', 'Revised Romanization',\n",
    "       'McCune–Reischauer', 'Chinese', 'Romanian'], axis=1)"
   ]
  },
  {
   "cell_type": "code",
   "execution_count": null,
   "id": "8ea35936",
   "metadata": {},
   "outputs": [],
   "source": []
  },
  {
   "cell_type": "code",
   "execution_count": 68,
   "id": "738c3d13",
   "metadata": {},
   "outputs": [
    {
     "data": {
      "text/plain": [
       "Index(['title', 'Directed by', 'Written by', 'Produced by', 'Starring',\n",
       "       'Cinematography', 'Edited by', 'Music by', 'Distributed by',\n",
       "       'Release date', 'Running time', 'Country', 'Language',\n",
       "       'Running time (int)', 'Release date (datetime)', 'imdb', 'metascore',\n",
       "       'rotten_tomatoes', 'plot', 'genre', 'awards', 'Screenplay by',\n",
       "       'Story by', 'Based on', 'Production company', 'Budget', 'Box office',\n",
       "       'Production companies', 'Countries', 'Languages'],\n",
       "      dtype='object')"
      ]
     },
     "execution_count": 68,
     "metadata": {},
     "output_type": "execute_result"
    }
   ],
   "source": [
    "academy.columns"
   ]
  },
  {
   "cell_type": "code",
   "execution_count": 69,
   "id": "aa6a89c2",
   "metadata": {},
   "outputs": [
    {
     "name": "stdout",
     "output_type": "stream",
     "text": [
      "<class 'pandas.core.frame.DataFrame'>\n",
      "RangeIndex: 331 entries, 0 to 330\n",
      "Data columns (total 30 columns):\n",
      " #   Column                   Non-Null Count  Dtype  \n",
      "---  ------                   --------------  -----  \n",
      " 0   title                    330 non-null    object \n",
      " 1   Directed by              331 non-null    object \n",
      " 2   Written by               255 non-null    object \n",
      " 3   Produced by              289 non-null    object \n",
      " 4   Starring                 319 non-null    object \n",
      " 5   Cinematography           304 non-null    object \n",
      " 6   Edited by                280 non-null    object \n",
      " 7   Music by                 277 non-null    object \n",
      " 8   Distributed by           249 non-null    object \n",
      " 9   Release date             327 non-null    object \n",
      " 10  Running time             329 non-null    object \n",
      " 11  Country                  213 non-null    object \n",
      " 12  Language                 234 non-null    object \n",
      " 13  Running time (int)       329 non-null    object \n",
      " 14  Release date (datetime)  288 non-null    object \n",
      " 15  imdb                     181 non-null    float64\n",
      " 16  metascore                56 non-null     float64\n",
      " 17  rotten_tomatoes          90 non-null     object \n",
      " 18  plot                     191 non-null    object \n",
      " 19  genre                    217 non-null    object \n",
      " 20  awards                   142 non-null    object \n",
      " 21  Screenplay by            73 non-null     object \n",
      " 22  Story by                 22 non-null     object \n",
      " 23  Based on                 71 non-null     object \n",
      " 24  Production company       65 non-null     object \n",
      " 25  Budget                   109 non-null    object \n",
      " 26  Box office               166 non-null    object \n",
      " 27  Production companies     102 non-null    object \n",
      " 28  Countries                117 non-null    object \n",
      " 29  Languages                96 non-null     object \n",
      "dtypes: float64(2), object(28)\n",
      "memory usage: 77.7+ KB\n"
     ]
    }
   ],
   "source": [
    "academy.info()"
   ]
  },
  {
   "cell_type": "code",
   "execution_count": 70,
   "id": "9978757d",
   "metadata": {},
   "outputs": [],
   "source": [
    "academy['month'] = pd.DatetimeIndex(academy['Release date (datetime)']).month\n",
    "academy['year'] =pd.DatetimeIndex(academy['Release date (datetime)']).year"
   ]
  },
  {
   "cell_type": "markdown",
   "id": "57248667",
   "metadata": {},
   "source": [
    "#### Normalizing imdb, metascore, rotten_tomatoes columns to have RATINGS 0-10(imdb stays the same)"
   ]
  },
  {
   "cell_type": "code",
   "execution_count": 71,
   "id": "c8fe0f3f",
   "metadata": {},
   "outputs": [
    {
     "data": {
      "text/html": [
       "<div>\n",
       "<style scoped>\n",
       "    .dataframe tbody tr th:only-of-type {\n",
       "        vertical-align: middle;\n",
       "    }\n",
       "\n",
       "    .dataframe tbody tr th {\n",
       "        vertical-align: top;\n",
       "    }\n",
       "\n",
       "    .dataframe thead th {\n",
       "        text-align: right;\n",
       "    }\n",
       "</style>\n",
       "<table border=\"1\" class=\"dataframe\">\n",
       "  <thead>\n",
       "    <tr style=\"text-align: right;\">\n",
       "      <th></th>\n",
       "      <th>imdb</th>\n",
       "      <th>metascore</th>\n",
       "      <th>rotten_tomatoes</th>\n",
       "    </tr>\n",
       "  </thead>\n",
       "  <tbody>\n",
       "    <tr>\n",
       "      <th>321</th>\n",
       "      <td>NaN</td>\n",
       "      <td>NaN</td>\n",
       "      <td>NaN</td>\n",
       "    </tr>\n",
       "    <tr>\n",
       "      <th>322</th>\n",
       "      <td>4.0</td>\n",
       "      <td>NaN</td>\n",
       "      <td>17%</td>\n",
       "    </tr>\n",
       "    <tr>\n",
       "      <th>323</th>\n",
       "      <td>8.6</td>\n",
       "      <td>NaN</td>\n",
       "      <td>NaN</td>\n",
       "    </tr>\n",
       "    <tr>\n",
       "      <th>324</th>\n",
       "      <td>8.0</td>\n",
       "      <td>86.0</td>\n",
       "      <td>100%</td>\n",
       "    </tr>\n",
       "    <tr>\n",
       "      <th>325</th>\n",
       "      <td>7.6</td>\n",
       "      <td>63.0</td>\n",
       "      <td>70%</td>\n",
       "    </tr>\n",
       "    <tr>\n",
       "      <th>326</th>\n",
       "      <td>NaN</td>\n",
       "      <td>NaN</td>\n",
       "      <td>NaN</td>\n",
       "    </tr>\n",
       "    <tr>\n",
       "      <th>327</th>\n",
       "      <td>4.4</td>\n",
       "      <td>NaN</td>\n",
       "      <td>NaN</td>\n",
       "    </tr>\n",
       "    <tr>\n",
       "      <th>328</th>\n",
       "      <td>6.8</td>\n",
       "      <td>NaN</td>\n",
       "      <td>97%</td>\n",
       "    </tr>\n",
       "    <tr>\n",
       "      <th>329</th>\n",
       "      <td>4.1</td>\n",
       "      <td>NaN</td>\n",
       "      <td>NaN</td>\n",
       "    </tr>\n",
       "    <tr>\n",
       "      <th>330</th>\n",
       "      <td>7.0</td>\n",
       "      <td>67.0</td>\n",
       "      <td>91%</td>\n",
       "    </tr>\n",
       "  </tbody>\n",
       "</table>\n",
       "</div>"
      ],
      "text/plain": [
       "     imdb  metascore rotten_tomatoes\n",
       "321   NaN        NaN             NaN\n",
       "322   4.0        NaN             17%\n",
       "323   8.6        NaN             NaN\n",
       "324   8.0       86.0            100%\n",
       "325   7.6       63.0             70%\n",
       "326   NaN        NaN             NaN\n",
       "327   4.4        NaN             NaN\n",
       "328   6.8        NaN             97%\n",
       "329   4.1        NaN             NaN\n",
       "330   7.0       67.0             91%"
      ]
     },
     "execution_count": 71,
     "metadata": {},
     "output_type": "execute_result"
    }
   ],
   "source": [
    "academy[['imdb', 'metascore', 'rotten_tomatoes',]].tail(10)"
   ]
  },
  {
   "cell_type": "code",
   "execution_count": 72,
   "id": "ea3b1554",
   "metadata": {},
   "outputs": [],
   "source": [
    "academy['rotten_tomatoes'] = academy['rotten_tomatoes'].astype(str).apply(lambda rotten_tomatoes:rotten_tomatoes.split('%')[0])"
   ]
  },
  {
   "cell_type": "code",
   "execution_count": null,
   "id": "2cb2d707",
   "metadata": {},
   "outputs": [],
   "source": []
  },
  {
   "cell_type": "code",
   "execution_count": 73,
   "id": "ecc2434c",
   "metadata": {},
   "outputs": [],
   "source": [
    "academy[['imdb', 'metascore', 'rotten_tomatoes',]] = academy[['imdb', 'metascore', 'rotten_tomatoes',]].astype('float')"
   ]
  },
  {
   "cell_type": "code",
   "execution_count": 74,
   "id": "dd806990",
   "metadata": {},
   "outputs": [],
   "source": [
    "# Dont run this cell multiple times, otherwise you keep dividing!\n",
    "academy['rotten_tomatoes_norm'] = np.round(academy['rotten_tomatoes']/10,1)\n",
    "academy['metascore_norm'] = np.round(academy['metascore']/10,1)"
   ]
  },
  {
   "cell_type": "code",
   "execution_count": 75,
   "id": "c475d3d9",
   "metadata": {},
   "outputs": [
    {
     "data": {
      "text/html": [
       "<div>\n",
       "<style scoped>\n",
       "    .dataframe tbody tr th:only-of-type {\n",
       "        vertical-align: middle;\n",
       "    }\n",
       "\n",
       "    .dataframe tbody tr th {\n",
       "        vertical-align: top;\n",
       "    }\n",
       "\n",
       "    .dataframe thead th {\n",
       "        text-align: right;\n",
       "    }\n",
       "</style>\n",
       "<table border=\"1\" class=\"dataframe\">\n",
       "  <thead>\n",
       "    <tr style=\"text-align: right;\">\n",
       "      <th></th>\n",
       "      <th>imdb</th>\n",
       "      <th>metascore</th>\n",
       "      <th>rotten_tomatoes</th>\n",
       "      <th>rotten_tomatoes_norm</th>\n",
       "      <th>metascore_norm</th>\n",
       "    </tr>\n",
       "  </thead>\n",
       "  <tbody>\n",
       "    <tr>\n",
       "      <th>321</th>\n",
       "      <td>NaN</td>\n",
       "      <td>NaN</td>\n",
       "      <td>NaN</td>\n",
       "      <td>NaN</td>\n",
       "      <td>NaN</td>\n",
       "    </tr>\n",
       "    <tr>\n",
       "      <th>322</th>\n",
       "      <td>4.0</td>\n",
       "      <td>NaN</td>\n",
       "      <td>17.0</td>\n",
       "      <td>1.7</td>\n",
       "      <td>NaN</td>\n",
       "    </tr>\n",
       "    <tr>\n",
       "      <th>323</th>\n",
       "      <td>8.6</td>\n",
       "      <td>NaN</td>\n",
       "      <td>NaN</td>\n",
       "      <td>NaN</td>\n",
       "      <td>NaN</td>\n",
       "    </tr>\n",
       "    <tr>\n",
       "      <th>324</th>\n",
       "      <td>8.0</td>\n",
       "      <td>86.0</td>\n",
       "      <td>100.0</td>\n",
       "      <td>10.0</td>\n",
       "      <td>8.6</td>\n",
       "    </tr>\n",
       "    <tr>\n",
       "      <th>325</th>\n",
       "      <td>7.6</td>\n",
       "      <td>63.0</td>\n",
       "      <td>70.0</td>\n",
       "      <td>7.0</td>\n",
       "      <td>6.3</td>\n",
       "    </tr>\n",
       "    <tr>\n",
       "      <th>326</th>\n",
       "      <td>NaN</td>\n",
       "      <td>NaN</td>\n",
       "      <td>NaN</td>\n",
       "      <td>NaN</td>\n",
       "      <td>NaN</td>\n",
       "    </tr>\n",
       "    <tr>\n",
       "      <th>327</th>\n",
       "      <td>4.4</td>\n",
       "      <td>NaN</td>\n",
       "      <td>NaN</td>\n",
       "      <td>NaN</td>\n",
       "      <td>NaN</td>\n",
       "    </tr>\n",
       "    <tr>\n",
       "      <th>328</th>\n",
       "      <td>6.8</td>\n",
       "      <td>NaN</td>\n",
       "      <td>97.0</td>\n",
       "      <td>9.7</td>\n",
       "      <td>NaN</td>\n",
       "    </tr>\n",
       "    <tr>\n",
       "      <th>329</th>\n",
       "      <td>4.1</td>\n",
       "      <td>NaN</td>\n",
       "      <td>NaN</td>\n",
       "      <td>NaN</td>\n",
       "      <td>NaN</td>\n",
       "    </tr>\n",
       "    <tr>\n",
       "      <th>330</th>\n",
       "      <td>7.0</td>\n",
       "      <td>67.0</td>\n",
       "      <td>91.0</td>\n",
       "      <td>9.1</td>\n",
       "      <td>6.7</td>\n",
       "    </tr>\n",
       "  </tbody>\n",
       "</table>\n",
       "</div>"
      ],
      "text/plain": [
       "     imdb  metascore  rotten_tomatoes  rotten_tomatoes_norm  metascore_norm\n",
       "321   NaN        NaN              NaN                   NaN             NaN\n",
       "322   4.0        NaN             17.0                   1.7             NaN\n",
       "323   8.6        NaN              NaN                   NaN             NaN\n",
       "324   8.0       86.0            100.0                  10.0             8.6\n",
       "325   7.6       63.0             70.0                   7.0             6.3\n",
       "326   NaN        NaN              NaN                   NaN             NaN\n",
       "327   4.4        NaN              NaN                   NaN             NaN\n",
       "328   6.8        NaN             97.0                   9.7             NaN\n",
       "329   4.1        NaN              NaN                   NaN             NaN\n",
       "330   7.0       67.0             91.0                   9.1             6.7"
      ]
     },
     "execution_count": 75,
     "metadata": {},
     "output_type": "execute_result"
    }
   ],
   "source": [
    "academy[['imdb', 'metascore', 'rotten_tomatoes','rotten_tomatoes_norm','metascore_norm']].tail(10)"
   ]
  },
  {
   "cell_type": "markdown",
   "id": "d43d1a3e",
   "metadata": {},
   "source": [
    "#Changin the name of the movie because it was NaN"
   ]
  },
  {
   "cell_type": "code",
   "execution_count": 76,
   "id": "2e219333",
   "metadata": {},
   "outputs": [],
   "source": [
    "#Changin the name of the movie because it was NaN\n",
    "academy.at[43,'title']='8'"
   ]
  },
  {
   "cell_type": "code",
   "execution_count": 77,
   "id": "76d78d62",
   "metadata": {},
   "outputs": [
    {
     "data": {
      "text/plain": [
       "title                                                                      8\n",
       "Directed by                                                 Federico Fellini\n",
       "Written by                                                               NaN\n",
       "Produced by                                                   Angelo Rizzoli\n",
       "Starring                   ['Marcello Mastroianni', 'Claudia Cardinale', ...\n",
       "Cinematography                                             Gianni Di Venanzo\n",
       "Edited by                                                        Leo Catozzo\n",
       "Music by                                                           Nino Rota\n",
       "Distributed by             ['Cineriz (Italy)', 'Columbia Pictures (France)']\n",
       "Release date                                            ['14 February 1963']\n",
       "Running time                                                     138 minutes\n",
       "Country                                                                  NaN\n",
       "Language                                                             Italian\n",
       "Running time (int)                                                       138\n",
       "Release date (datetime)                                           1963-02-14\n",
       "imdb                                                                     NaN\n",
       "metascore                                                                NaN\n",
       "rotten_tomatoes                                                          NaN\n",
       "plot                                                                     NaN\n",
       "genre                                                                    NaN\n",
       "awards                                                                   NaN\n",
       "Screenplay by              ['Federico Fellini', 'Tullio Pinelli', 'Ennio ...\n",
       "Story by                               ['Federico Fellini', 'Ennio Flaiano']\n",
       "Based on                                                                 NaN\n",
       "Production company                                                       NaN\n",
       "Budget                                                                   NaN\n",
       "Box office                                            $3.5 million (rentals)\n",
       "Production companies                                ['Cineriz', 'Francinex']\n",
       "Countries                                                ['Italy', 'France']\n",
       "Languages                                                                NaN\n",
       "month                                                                    2.0\n",
       "year                                                                  1963.0\n",
       "rotten_tomatoes_norm                                                     NaN\n",
       "metascore_norm                                                           NaN\n",
       "Name: 43, dtype: object"
      ]
     },
     "execution_count": 77,
     "metadata": {},
     "output_type": "execute_result"
    }
   ],
   "source": [
    "academy.iloc[43]"
   ]
  },
  {
   "cell_type": "markdown",
   "id": "90d9d5de",
   "metadata": {},
   "source": [
    "#### *ADDING A COLUMN WITH WINNERS* (1 is a movies who won and 0 is the movies that didn't won)"
   ]
  },
  {
   "cell_type": "code",
   "execution_count": 78,
   "id": "587f037b",
   "metadata": {},
   "outputs": [],
   "source": [
    "#List of winners \n",
    "l=[\"Shoeshine\",\"Monsieur Vincent\",\"Bicycle Thieves\",\"The Walls of Malapaga\",\"Rashomon\", \"Forbidden Games\", \"Jigokumon\" ,\"Miyamoto Musashi\",\n",
    "\"La strada\",\"Nights of Cabiria (Le notti di Cabiria)\", \"Mon Oncle\", \"Black Orpheus\",\n",
    "\"The Virgin Spring\", \"Through a Glass Darkly\", \"Sundays and Cybele\",\"8\" ,\"Yesterday, Today and Tomorrow\",\n",
    "\"The Shop on Main Street\",\"A Man and a Woman\",\"Closely Watched Trains\",\"War and Peace\",\n",
    " \"Z\",\"Investigation of a Citizen Above Suspicion\",\"The Garden of the Finzi-Continis\",\n",
    "\"The Discreet Charm of the Bourgeoisie\",\"Day for Night\",\"Amarcord\",\"Dodes'ka-den\",\n",
    "\"Black and White in Color\",\"Madame Rosa\",\"Get Out Your Handkerchiefs\",\"The Tin Drum\",\n",
    "\"Moscow Does Not Believe In Tears\",\"Mephisto\", \"Volver a Empezar\",\n",
    "\"Fanny and Alexander\",\"Dangerous Moves\", \"The Official Story\",\n",
    "\"The Assault\",\"Babette's Feast\",\"Pelle the Conqueror\",\"Cinema Paradiso\",\n",
    "\"Journey of Hope\", \"Mediterraneo\", \"Indochine\",\"Belle Époque\", \"Burnt by the Sun\", \"Antonia's Line\",\n",
    "\"Kolya\", \"Character\", \"Life Is Beautiful\",\"All About My Mother\", \n",
    "\"Crouching Tiger, Hidden Dragon\",\"No Man's Land\", \"Nowhere in Africa\", \"The Barbarian Invasions\", \"The Sea Inside\",\n",
    "\"Tsotsi\", \"The Lives of Others\",\"The Counterfeiters\", \"Departures\",\n",
    "\"The Secret in Their Eyes\", \"In a Better World\", \"A Separation\", \"Amour\", \"The Great Beauty\",\n",
    "\"Ida\", \"Son of Saul\", \"The Salesman\", \"A Fantastic Woman\", \"Roma\", \"Parasite\", \"Another Round\"\n",
    "]"
   ]
  },
  {
   "cell_type": "code",
   "execution_count": 79,
   "id": "67f9a996",
   "metadata": {},
   "outputs": [],
   "source": [
    "#academy = academy.set_index('title')\n",
    "#academy = academy.reset_index()"
   ]
  },
  {
   "cell_type": "code",
   "execution_count": 80,
   "id": "4ec62ceb",
   "metadata": {},
   "outputs": [],
   "source": [
    "#academy=academy.drop([\"won\"], axis=1)"
   ]
  },
  {
   "cell_type": "code",
   "execution_count": 81,
   "id": "fcac293d",
   "metadata": {},
   "outputs": [],
   "source": [
    "academy['won'] = np.where(academy['title'].isin(l), 1, 0)"
   ]
  },
  {
   "cell_type": "code",
   "execution_count": 108,
   "id": "fda41937",
   "metadata": {},
   "outputs": [
    {
     "data": {
      "text/plain": [
       "Release date               ['12 September 2020 ( TIFF )', '24 September  ...\n",
       "Country                                                                  NaN\n",
       "Language                                                              Danish\n",
       "Running time (int)                                                       117\n",
       "Release date (datetime)                                           2020-09-12\n",
       "imdb                                                                     4.4\n",
       "metascore                                                                NaN\n",
       "rotten_tomatoes                                                          NaN\n",
       "plot                       On Valentine's Day, a cocktail waitress lets h...\n",
       "genre                                                                  Short\n",
       "awards                                                                   NaN\n",
       "Countries                               ['Denmark', 'Netherlands', 'Sweden']\n",
       "Languages                                                                NaN\n",
       "month                                                                    9.0\n",
       "year                                                                  2020.0\n",
       "rotten_tomatoes_norm                                                     NaN\n",
       "metascore_norm                                                           NaN\n",
       "won                                                                        1\n",
       "Name: Another Round, dtype: object"
      ]
     },
     "execution_count": 108,
     "metadata": {},
     "output_type": "execute_result"
    }
   ],
   "source": [
    "#Another Round won oscar\n",
    "academy.loc['Another Round']"
   ]
  },
  {
   "cell_type": "code",
   "execution_count": 83,
   "id": "bb66c711",
   "metadata": {},
   "outputs": [
    {
     "data": {
      "text/plain": [
       "0    258\n",
       "1     73\n",
       "Name: won, dtype: int64"
      ]
     },
     "execution_count": 83,
     "metadata": {},
     "output_type": "execute_result"
    }
   ],
   "source": [
    "#Checking if the number of movies that won is correct\n",
    "academy['won'].value_counts()"
   ]
  },
  {
   "cell_type": "code",
   "execution_count": 84,
   "id": "3c1a73df",
   "metadata": {},
   "outputs": [],
   "source": [
    "academy = academy.set_index('title')"
   ]
  },
  {
   "cell_type": "code",
   "execution_count": 85,
   "id": "880cfef7",
   "metadata": {},
   "outputs": [
    {
     "data": {
      "text/plain": [
       "rotten_tomatoes_norm  metascore_norm  imdb \n",
       "False                 False           False    149\n",
       "                                      True      91\n",
       "True                  True            True      55\n",
       "                      False           True      34\n",
       "False                 True            True       1\n",
       "True                  False           False      1\n",
       "dtype: int64"
      ]
     },
     "execution_count": 85,
     "metadata": {},
     "output_type": "execute_result"
    }
   ],
   "source": [
    "academy[['rotten_tomatoes_norm','metascore_norm','imdb']].notnull().value_counts()"
   ]
  },
  {
   "cell_type": "code",
   "execution_count": 86,
   "id": "1a1bfd5c",
   "metadata": {},
   "outputs": [
    {
     "data": {
      "text/plain": [
       "True     181\n",
       "False    150\n",
       "Name: imdb, dtype: int64"
      ]
     },
     "execution_count": 86,
     "metadata": {},
     "output_type": "execute_result"
    }
   ],
   "source": [
    "academy['imdb'].notnull().value_counts()"
   ]
  },
  {
   "cell_type": "code",
   "execution_count": 87,
   "id": "4ef6b539",
   "metadata": {},
   "outputs": [
    {
     "data": {
      "text/plain": [
       "False    241\n",
       "True      90\n",
       "Name: rotten_tomatoes_norm, dtype: int64"
      ]
     },
     "execution_count": 87,
     "metadata": {},
     "output_type": "execute_result"
    }
   ],
   "source": [
    "academy['rotten_tomatoes_norm'].notnull().value_counts()"
   ]
  },
  {
   "cell_type": "markdown",
   "id": "97fa4e88",
   "metadata": {},
   "source": [
    "#### Creating a dataframe 'winners' for the academy awards winners"
   ]
  },
  {
   "cell_type": "code",
   "execution_count": 88,
   "id": "5355c641",
   "metadata": {},
   "outputs": [],
   "source": [
    "winners= academy.loc[academy[\"won\"]==1]\n"
   ]
  },
  {
   "cell_type": "code",
   "execution_count": 89,
   "id": "ba6144ec",
   "metadata": {},
   "outputs": [
    {
     "data": {
      "text/html": [
       "<div>\n",
       "<style scoped>\n",
       "    .dataframe tbody tr th:only-of-type {\n",
       "        vertical-align: middle;\n",
       "    }\n",
       "\n",
       "    .dataframe tbody tr th {\n",
       "        vertical-align: top;\n",
       "    }\n",
       "\n",
       "    .dataframe thead th {\n",
       "        text-align: right;\n",
       "    }\n",
       "</style>\n",
       "<table border=\"1\" class=\"dataframe\">\n",
       "  <thead>\n",
       "    <tr style=\"text-align: right;\">\n",
       "      <th></th>\n",
       "      <th>Directed by</th>\n",
       "      <th>Written by</th>\n",
       "      <th>Produced by</th>\n",
       "      <th>Starring</th>\n",
       "      <th>Cinematography</th>\n",
       "      <th>Edited by</th>\n",
       "      <th>Music by</th>\n",
       "      <th>Distributed by</th>\n",
       "      <th>Release date</th>\n",
       "      <th>Running time</th>\n",
       "      <th>...</th>\n",
       "      <th>Budget</th>\n",
       "      <th>Box office</th>\n",
       "      <th>Production companies</th>\n",
       "      <th>Countries</th>\n",
       "      <th>Languages</th>\n",
       "      <th>month</th>\n",
       "      <th>year</th>\n",
       "      <th>rotten_tomatoes_norm</th>\n",
       "      <th>metascore_norm</th>\n",
       "      <th>won</th>\n",
       "    </tr>\n",
       "    <tr>\n",
       "      <th>title</th>\n",
       "      <th></th>\n",
       "      <th></th>\n",
       "      <th></th>\n",
       "      <th></th>\n",
       "      <th></th>\n",
       "      <th></th>\n",
       "      <th></th>\n",
       "      <th></th>\n",
       "      <th></th>\n",
       "      <th></th>\n",
       "      <th></th>\n",
       "      <th></th>\n",
       "      <th></th>\n",
       "      <th></th>\n",
       "      <th></th>\n",
       "      <th></th>\n",
       "      <th></th>\n",
       "      <th></th>\n",
       "      <th></th>\n",
       "      <th></th>\n",
       "      <th></th>\n",
       "    </tr>\n",
       "  </thead>\n",
       "  <tbody>\n",
       "    <tr>\n",
       "      <th>Roma</th>\n",
       "      <td>Alfonso Cuarón</td>\n",
       "      <td>Alfonso Cuarón</td>\n",
       "      <td>['Gabriela Rodríguez', 'Alfonso Cuarón', 'Nico...</td>\n",
       "      <td>['Yalitza Aparicio', 'Marina de Tavira']</td>\n",
       "      <td>Alfonso Cuarón</td>\n",
       "      <td>['Alfonso Cuarón', 'Adam Gough']</td>\n",
       "      <td>NaN</td>\n",
       "      <td>['Espectáculos Fílmicos El Coyúl (Mexico)', 'N...</td>\n",
       "      <td>['30 August 2018 ( Venice )', '21 November 201...</td>\n",
       "      <td>135 minutes</td>\n",
       "      <td>...</td>\n",
       "      <td>$15 million</td>\n",
       "      <td>$5.1 million</td>\n",
       "      <td>['Espectáculos Fílmicos El Coyúl', 'Pimienta F...</td>\n",
       "      <td>['Mexico', 'United States']</td>\n",
       "      <td>['Spanish', 'Mixtec']</td>\n",
       "      <td>8.0</td>\n",
       "      <td>2018.0</td>\n",
       "      <td>9.6</td>\n",
       "      <td>9.6</td>\n",
       "      <td>1</td>\n",
       "    </tr>\n",
       "    <tr>\n",
       "      <th>Parasite</th>\n",
       "      <td>Bong Joon-ho</td>\n",
       "      <td>NaN</td>\n",
       "      <td>['Kwak Sin-ae', 'Moon Yang-kwon', 'Bong Joon-h...</td>\n",
       "      <td>['Song Kang-ho', 'Lee Sun-kyun', 'Cho Yeo-jeon...</td>\n",
       "      <td>Hong Kyung-pyo</td>\n",
       "      <td>Yang Jin-mo</td>\n",
       "      <td>Jung Jae-il</td>\n",
       "      <td>CJ Entertainment</td>\n",
       "      <td>NaN</td>\n",
       "      <td>132 minutes</td>\n",
       "      <td>...</td>\n",
       "      <td>['₩17.0 billion']</td>\n",
       "      <td>$259 million</td>\n",
       "      <td>NaN</td>\n",
       "      <td>NaN</td>\n",
       "      <td>NaN</td>\n",
       "      <td>NaN</td>\n",
       "      <td>NaN</td>\n",
       "      <td>1.7</td>\n",
       "      <td>NaN</td>\n",
       "      <td>1</td>\n",
       "    </tr>\n",
       "    <tr>\n",
       "      <th>Another Round</th>\n",
       "      <td>Thomas Vinterberg</td>\n",
       "      <td>['Thomas Vinterberg', 'Tobias Lindholm']</td>\n",
       "      <td>['Sisse Graum Jørgensen', 'Kasper Dissing']</td>\n",
       "      <td>['Mads Mikkelsen', 'Thomas Bo Larsen', 'Magnus...</td>\n",
       "      <td>Sturla Brandth Grøvlen</td>\n",
       "      <td>['Anne Østerud', 'Janus Billeskov Jansen']</td>\n",
       "      <td>Janus Billeskov Jansen</td>\n",
       "      <td>['Nordisk Film (Scandinavia)', 'September Film...</td>\n",
       "      <td>['12 September 2020 ( TIFF )', '24 September  ...</td>\n",
       "      <td>117 minutes</td>\n",
       "      <td>...</td>\n",
       "      <td>['kr', '33.5\\xa0million', '(', 'US$', '5.7\\xa0...</td>\n",
       "      <td>$21.7 million</td>\n",
       "      <td>['Zentropa', 'Film i Väst', 'Topkapi Films', '...</td>\n",
       "      <td>['Denmark', 'Netherlands', 'Sweden']</td>\n",
       "      <td>NaN</td>\n",
       "      <td>9.0</td>\n",
       "      <td>2020.0</td>\n",
       "      <td>NaN</td>\n",
       "      <td>NaN</td>\n",
       "      <td>1</td>\n",
       "    </tr>\n",
       "  </tbody>\n",
       "</table>\n",
       "<p>3 rows × 34 columns</p>\n",
       "</div>"
      ],
      "text/plain": [
       "                     Directed by                                Written by  \\\n",
       "title                                                                        \n",
       "Roma              Alfonso Cuarón                            Alfonso Cuarón   \n",
       "Parasite            Bong Joon-ho                                       NaN   \n",
       "Another Round  Thomas Vinterberg  ['Thomas Vinterberg', 'Tobias Lindholm']   \n",
       "\n",
       "                                                     Produced by  \\\n",
       "title                                                              \n",
       "Roma           ['Gabriela Rodríguez', 'Alfonso Cuarón', 'Nico...   \n",
       "Parasite       ['Kwak Sin-ae', 'Moon Yang-kwon', 'Bong Joon-h...   \n",
       "Another Round        ['Sisse Graum Jørgensen', 'Kasper Dissing']   \n",
       "\n",
       "                                                        Starring  \\\n",
       "title                                                              \n",
       "Roma                    ['Yalitza Aparicio', 'Marina de Tavira']   \n",
       "Parasite       ['Song Kang-ho', 'Lee Sun-kyun', 'Cho Yeo-jeon...   \n",
       "Another Round  ['Mads Mikkelsen', 'Thomas Bo Larsen', 'Magnus...   \n",
       "\n",
       "                       Cinematography  \\\n",
       "title                                   \n",
       "Roma                   Alfonso Cuarón   \n",
       "Parasite               Hong Kyung-pyo   \n",
       "Another Round  Sturla Brandth Grøvlen   \n",
       "\n",
       "                                                Edited by  \\\n",
       "title                                                       \n",
       "Roma                     ['Alfonso Cuarón', 'Adam Gough']   \n",
       "Parasite                                      Yang Jin-mo   \n",
       "Another Round  ['Anne Østerud', 'Janus Billeskov Jansen']   \n",
       "\n",
       "                             Music by  \\\n",
       "title                                   \n",
       "Roma                              NaN   \n",
       "Parasite                  Jung Jae-il   \n",
       "Another Round  Janus Billeskov Jansen   \n",
       "\n",
       "                                                  Distributed by  \\\n",
       "title                                                              \n",
       "Roma           ['Espectáculos Fílmicos El Coyúl (Mexico)', 'N...   \n",
       "Parasite                                        CJ Entertainment   \n",
       "Another Round  ['Nordisk Film (Scandinavia)', 'September Film...   \n",
       "\n",
       "                                                    Release date Running time  \\\n",
       "title                                                                           \n",
       "Roma           ['30 August 2018 ( Venice )', '21 November 201...  135 minutes   \n",
       "Parasite                                                     NaN  132 minutes   \n",
       "Another Round  ['12 September 2020 ( TIFF )', '24 September  ...  117 minutes   \n",
       "\n",
       "               ...                                             Budget  \\\n",
       "title          ...                                                      \n",
       "Roma           ...                                        $15 million   \n",
       "Parasite       ...                                  ['₩17.0 billion']   \n",
       "Another Round  ...  ['kr', '33.5\\xa0million', '(', 'US$', '5.7\\xa0...   \n",
       "\n",
       "                  Box office  \\\n",
       "title                          \n",
       "Roma            $5.1 million   \n",
       "Parasite        $259 million   \n",
       "Another Round  $21.7 million   \n",
       "\n",
       "                                            Production companies  \\\n",
       "title                                                              \n",
       "Roma           ['Espectáculos Fílmicos El Coyúl', 'Pimienta F...   \n",
       "Parasite                                                     NaN   \n",
       "Another Round  ['Zentropa', 'Film i Väst', 'Topkapi Films', '...   \n",
       "\n",
       "                                          Countries              Languages  \\\n",
       "title                                                                        \n",
       "Roma                    ['Mexico', 'United States']  ['Spanish', 'Mixtec']   \n",
       "Parasite                                        NaN                    NaN   \n",
       "Another Round  ['Denmark', 'Netherlands', 'Sweden']                    NaN   \n",
       "\n",
       "               month    year rotten_tomatoes_norm metascore_norm won  \n",
       "title                                                                 \n",
       "Roma             8.0  2018.0                  9.6            9.6   1  \n",
       "Parasite         NaN     NaN                  1.7            NaN   1  \n",
       "Another Round    9.0  2020.0                  NaN            NaN   1  \n",
       "\n",
       "[3 rows x 34 columns]"
      ]
     },
     "execution_count": 89,
     "metadata": {},
     "output_type": "execute_result"
    }
   ],
   "source": [
    "winners.tail(3)"
   ]
  },
  {
   "cell_type": "markdown",
   "id": "6d8ec166",
   "metadata": {},
   "source": [
    "#### Top 10 winners, top 10 winners and nominees acording to IMDB"
   ]
  },
  {
   "cell_type": "code",
   "execution_count": 90,
   "id": "b32dc274",
   "metadata": {},
   "outputs": [
    {
     "data": {
      "text/plain": [
       "title\n",
       "A Separation       9.6\n",
       "Departures         9.0\n",
       "Cinema Paradiso    8.5\n",
       "Z                  8.3\n",
       "La strada          8.0\n",
       "Amour              7.9\n",
       "No Man's Land      7.9\n",
       "Amarcord           7.9\n",
       "Mephisto           7.8\n",
       "Mon Oncle          7.8\n",
       "Name: imdb, dtype: float64"
      ]
     },
     "execution_count": 90,
     "metadata": {},
     "output_type": "execute_result"
    }
   ],
   "source": [
    " winners.sort_values(by=['imdb'], ascending=False)['imdb'].head(10)"
   ]
  },
  {
   "cell_type": "code",
   "execution_count": 91,
   "id": "20580d3a",
   "metadata": {},
   "outputs": [
    {
     "data": {
      "text/plain": [
       "title\n",
       "Electra            3.6\n",
       "Parasite           4.0\n",
       "Collective         4.1\n",
       "Forbidden Games    4.4\n",
       "Vengeance          4.4\n",
       "Another Round      4.4\n",
       "Merry Christmas    4.5\n",
       "Three              4.9\n",
       "Stolen Kisses      5.1\n",
       "Twin Sisters       5.3\n",
       "Name: imdb, dtype: float64"
      ]
     },
     "execution_count": 91,
     "metadata": {},
     "output_type": "execute_result"
    }
   ],
   "source": [
    "academy.nsmallest(10,'imdb')['imdb']"
   ]
  },
  {
   "cell_type": "code",
   "execution_count": 92,
   "id": "2a99e92f",
   "metadata": {},
   "outputs": [
    {
     "data": {
      "text/plain": [
       "title\n",
       "A Separation                            9.6\n",
       "Departures                              9.0\n",
       "Cold War                                8.6\n",
       "Corpus Christi                          8.6\n",
       "Operation Thunderbolt                   8.6\n",
       "Cinema Paradiso                         8.5\n",
       "Macario                                 8.4\n",
       "Z                                       8.3\n",
       "Incendies                               8.3\n",
       "Dersu Uzala (Дерсу Узала) (デルス·ウザーラ)    8.3\n",
       "Name: imdb, dtype: float64"
      ]
     },
     "execution_count": 92,
     "metadata": {},
     "output_type": "execute_result"
    }
   ],
   "source": [
    "academy.sort_values(by=['imdb'], ascending=False)['imdb'].head(10)"
   ]
  },
  {
   "cell_type": "markdown",
   "id": "4a5f4a3c",
   "metadata": {},
   "source": [
    "#### Combining IMDB and Rotten tomatoes top 10 score "
   ]
  },
  {
   "cell_type": "code",
   "execution_count": 93,
   "id": "96b28995",
   "metadata": {},
   "outputs": [
    {
     "data": {
      "text/plain": [
       "89"
      ]
     },
     "execution_count": 93,
     "metadata": {},
     "output_type": "execute_result"
    }
   ],
   "source": [
    "#Adding new column which is sum of imdb and rotten scores \n",
    "pd.options.mode.chained_assignment = None \n",
    "ac_im_rot=academy[(academy['imdb'].notnull()) & (academy['rotten_tomatoes_norm'].notnull())]\n",
    "ac_im_rot['sum_imdb_rot']=ac_im_rot['imdb']+ac_im_rot['rotten_tomatoes_norm']\n",
    "\n",
    "len(ac_im_rot)\n"
   ]
  },
  {
   "cell_type": "code",
   "execution_count": 94,
   "id": "469fbbdd",
   "metadata": {},
   "outputs": [
    {
     "data": {
      "text/plain": [
       "title\n",
       "Macario                  18.4\n",
       "Honeyland                18.0\n",
       "Die Brücke               18.0\n",
       "Plácido                  17.9\n",
       "La strada                17.8\n",
       "Z                        17.7\n",
       "Ju Dou                   17.7\n",
       "Lacombe Lucien           17.7\n",
       "Au revoir les enfants    17.7\n",
       "Lagaan                   17.6\n",
       "Name: sum_imdb_rot, dtype: float64"
      ]
     },
     "execution_count": 94,
     "metadata": {},
     "output_type": "execute_result"
    }
   ],
   "source": [
    "ac_im_rot.sort_values(by=['sum_imdb_rot'], ascending=False)['sum_imdb_rot'].head(10)"
   ]
  },
  {
   "cell_type": "markdown",
   "id": "3d3487e1",
   "metadata": {},
   "source": [
    "#### Creating a scatterplot exploring the relationship between IMDB ratings  and RT ratings."
   ]
  },
  {
   "cell_type": "code",
   "execution_count": 118,
   "id": "4ed7f94d",
   "metadata": {},
   "outputs": [
    {
     "data": {
      "text/plain": [
       "(0.0, 11.0)"
      ]
     },
     "execution_count": 118,
     "metadata": {},
     "output_type": "execute_result"
    },
    {
     "data": {
      "image/png": "[encoded data removed]",
      "text/plain": [
       "<Figure size 1500x600 with 1 Axes>"
      ]
     },
     "metadata": {
      "needs_background": "light"
     },
     "output_type": "display_data"
    }
   ],
   "source": [
    "plt.figure(figsize=(10,4),dpi=150)\n",
    "sns.scatterplot(data=ac_im_rot,x='imdb',y='rotten_tomatoes_norm')\n",
    "plt.xlim(0,10)\n",
    "plt.ylim(0,11)"
   ]
  },
  {
   "cell_type": "markdown",
   "id": "4de674fb",
   "metadata": {},
   "source": [
    "**Adding running time values to the movies that we were missing data**"
   ]
  },
  {
   "cell_type": "code",
   "execution_count": 95,
   "id": "397aab0d",
   "metadata": {},
   "outputs": [],
   "source": [
    "#d={'The Walls of Malapaga':89, 'Paw':100, 'War and Peace':431, 'Twin Sisters':140, 'First Love':90, 'Fanny and Alexander':188}\n",
    "#for i in d:\n",
    "#    academy.at[i ,'Running time (int)']=d[i]\n",
    "    \n",
    "academy.at['The Walls of Malapaga' ,'Running time (int)']=89\n",
    "academy.at['Paw' ,'Running time (int)']=100\n",
    "academy.at['War and Peace' ,'Running time (int)']=431\n",
    "academy.at['Twin Sisters' ,'Running time (int)']=140\n",
    "academy.at['First Love' ,'Running time (int)']=90\n",
    "academy.at['Fanny and Alexander' ,'Running time (int)']=188\n",
    "\n"
   ]
  },
  {
   "cell_type": "code",
   "execution_count": 96,
   "id": "51c3cb0d",
   "metadata": {},
   "outputs": [],
   "source": [
    "academy['Running time (int)'] = academy['Running time (int)'].apply(pd.to_numeric)\n",
    "#academy['Running time (int)'].astype(int)"
   ]
  },
  {
   "cell_type": "markdown",
   "id": "b32555cf",
   "metadata": {},
   "source": [
    "#### Top 10 longest and shortest movies that won Academy Award for Best International Feature Film"
   ]
  },
  {
   "cell_type": "code",
   "execution_count": 97,
   "id": "8e532fdc",
   "metadata": {},
   "outputs": [
    {
     "data": {
      "text/plain": [
       "title\n",
       "Nights and Days                                  632\n",
       "War and Peace                                    431\n",
       "The Deluge                                       287\n",
       "The Brothers Karamazov                           232\n",
       "Lagaan                                           224\n",
       "The New Land                                     202\n",
       "The Emigrants                                    191\n",
       "The Dawns Here Are Quiet (А зори здесь тихие)    188\n",
       "Fanny and Alexander                              188\n",
       "Never Look Away                                  188\n",
       "Name: Running time (int), dtype: int64"
      ]
     },
     "execution_count": 97,
     "metadata": {},
     "output_type": "execute_result"
    }
   ],
   "source": [
    "academy.sort_values(by=['Running time (int)'], ascending=False)['Running time (int)'].head(10)"
   ]
  },
  {
   "cell_type": "code",
   "execution_count": 98,
   "id": "bf0ff5d5",
   "metadata": {},
   "outputs": [
    {
     "data": {
      "text/plain": [
       "title\n",
       "The Firemen's Ball          73\n",
       "Three                       80\n",
       "My Dearest Senorita         80\n",
       "I Even Met Happy Gypsies    82\n",
       "Children of Nature          82\n",
       "Ida                         82\n",
       "Plácido                     85\n",
       "Forbidden Games             86\n",
       "Jigokumon                   86\n",
       "Pathfinder                  86\n",
       "Name: Running time (int), dtype: int64"
      ]
     },
     "execution_count": 98,
     "metadata": {},
     "output_type": "execute_result"
    }
   ],
   "source": [
    "academy.nsmallest(10,'Running time (int)')['Running time (int)']"
   ]
  },
  {
   "cell_type": "markdown",
   "id": "f6a79243",
   "metadata": {},
   "source": [
    "#### Droping some more columns that will not have use in the Exploratory Data Analysis "
   ]
  },
  {
   "cell_type": "code",
   "execution_count": 99,
   "id": "4296108a",
   "metadata": {},
   "outputs": [],
   "source": [
    "academy=academy.drop(['Directed by', 'Written by', 'Produced by', 'Starring',\n",
    "       'Cinematography', 'Edited by', 'Music by', 'Distributed by','Screenplay by',\n",
    "       'Story by', 'Based on', 'Production company','Production companies','Running time','Budget','Box office'], axis=1)"
   ]
  },
  {
   "cell_type": "code",
   "execution_count": 100,
   "id": "bd43eb0e",
   "metadata": {},
   "outputs": [
    {
     "name": "stdout",
     "output_type": "stream",
     "text": [
      "<class 'pandas.core.frame.DataFrame'>\n",
      "Index: 331 entries, Shoeshine to The Man Who Sold His Skin\n",
      "Data columns (total 18 columns):\n",
      " #   Column                   Non-Null Count  Dtype  \n",
      "---  ------                   --------------  -----  \n",
      " 0   Release date             327 non-null    object \n",
      " 1   Country                  213 non-null    object \n",
      " 2   Language                 234 non-null    object \n",
      " 3   Running time (int)       331 non-null    int64  \n",
      " 4   Release date (datetime)  288 non-null    object \n",
      " 5   imdb                     181 non-null    float64\n",
      " 6   metascore                56 non-null     float64\n",
      " 7   rotten_tomatoes          90 non-null     float64\n",
      " 8   plot                     191 non-null    object \n",
      " 9   genre                    217 non-null    object \n",
      " 10  awards                   142 non-null    object \n",
      " 11  Countries                117 non-null    object \n",
      " 12  Languages                96 non-null     object \n",
      " 13  month                    288 non-null    float64\n",
      " 14  year                     288 non-null    float64\n",
      " 15  rotten_tomatoes_norm     90 non-null     float64\n",
      " 16  metascore_norm           56 non-null     float64\n",
      " 17  won                      331 non-null    int32  \n",
      "dtypes: float64(7), int32(1), int64(1), object(9)\n",
      "memory usage: 55.9+ KB\n"
     ]
    }
   ],
   "source": [
    "academy.info()"
   ]
  },
  {
   "cell_type": "markdown",
   "id": "299f9e07",
   "metadata": {},
   "source": [
    "#### Top 10  most successful films acording to awards and nominations they recieved"
   ]
  },
  {
   "cell_type": "code",
   "execution_count": 101,
   "id": "745b0ec3",
   "metadata": {},
   "outputs": [],
   "source": [
    "awards=academy['awards'].dropna(axis=0, how='any').to_frame(name=\"awards\")"
   ]
  },
  {
   "cell_type": "code",
   "execution_count": null,
   "id": "e2369d0f",
   "metadata": {},
   "outputs": [],
   "source": []
  },
  {
   "cell_type": "code",
   "execution_count": 102,
   "id": "c1812a1f",
   "metadata": {},
   "outputs": [],
   "source": [
    "#sum of nominations and awards \n",
    "def extract_num(award):\n",
    "    l = [ int(x) for x in award if x.isdigit() ]\n",
    "    s = sum(l)\n",
    "    return s\n",
    "awards[\"sum_of_awards\"]=awards[\"awards\"].str.split(' ').apply(extract_num)\n"
   ]
  },
  {
   "cell_type": "code",
   "execution_count": 103,
   "id": "4f8b01a1",
   "metadata": {},
   "outputs": [
    {
     "data": {
      "text/html": [
       "<div>\n",
       "<style scoped>\n",
       "    .dataframe tbody tr th:only-of-type {\n",
       "        vertical-align: middle;\n",
       "    }\n",
       "\n",
       "    .dataframe tbody tr th {\n",
       "        vertical-align: top;\n",
       "    }\n",
       "\n",
       "    .dataframe thead th {\n",
       "        text-align: right;\n",
       "    }\n",
       "</style>\n",
       "<table border=\"1\" class=\"dataframe\">\n",
       "  <thead>\n",
       "    <tr style=\"text-align: right;\">\n",
       "      <th></th>\n",
       "      <th>awards</th>\n",
       "      <th>sum_of_awards</th>\n",
       "    </tr>\n",
       "    <tr>\n",
       "      <th>title</th>\n",
       "      <th></th>\n",
       "      <th></th>\n",
       "    </tr>\n",
       "  </thead>\n",
       "  <tbody>\n",
       "    <tr>\n",
       "      <th>Shoeshine</th>\n",
       "      <td>Nominated for 1 Oscar. 2 nominations total</td>\n",
       "      <td>3</td>\n",
       "    </tr>\n",
       "    <tr>\n",
       "      <th>Monsieur Vincent</th>\n",
       "      <td>Won 1 Oscar. 2 wins &amp; 4 nominations total</td>\n",
       "      <td>7</td>\n",
       "    </tr>\n",
       "    <tr>\n",
       "      <th>Jigokumon</th>\n",
       "      <td>Won 2 Oscars. 7 wins &amp; 1 nomination total</td>\n",
       "      <td>10</td>\n",
       "    </tr>\n",
       "    <tr>\n",
       "      <th>Miyamoto Musashi</th>\n",
       "      <td>Won 1 Oscar. 1 win &amp; 1 nomination total</td>\n",
       "      <td>3</td>\n",
       "    </tr>\n",
       "    <tr>\n",
       "      <th>La strada</th>\n",
       "      <td>Won 1 Oscar. 12 wins &amp; 5 nominations total</td>\n",
       "      <td>18</td>\n",
       "    </tr>\n",
       "    <tr>\n",
       "      <th>...</th>\n",
       "      <td>...</td>\n",
       "      <td>...</td>\n",
       "    </tr>\n",
       "    <tr>\n",
       "      <th>Honeyland</th>\n",
       "      <td>Nominated for 2 Oscars. 37 wins &amp; 53 nominatio...</td>\n",
       "      <td>92</td>\n",
       "    </tr>\n",
       "    <tr>\n",
       "      <th>Les Misérables</th>\n",
       "      <td>Won 3 Oscars. 85 wins &amp; 177 nominations total</td>\n",
       "      <td>265</td>\n",
       "    </tr>\n",
       "    <tr>\n",
       "      <th>Better Days</th>\n",
       "      <td>1 win &amp; 3 nominations</td>\n",
       "      <td>4</td>\n",
       "    </tr>\n",
       "    <tr>\n",
       "      <th>Collective</th>\n",
       "      <td>4 wins &amp; 2 nominations</td>\n",
       "      <td>6</td>\n",
       "    </tr>\n",
       "    <tr>\n",
       "      <th>The Man Who Sold His Skin</th>\n",
       "      <td>Nominated for 1 Oscar. 6 wins &amp; 8 nominations ...</td>\n",
       "      <td>15</td>\n",
       "    </tr>\n",
       "  </tbody>\n",
       "</table>\n",
       "<p>142 rows × 2 columns</p>\n",
       "</div>"
      ],
      "text/plain": [
       "                                                                      awards  \\\n",
       "title                                                                          \n",
       "Shoeshine                         Nominated for 1 Oscar. 2 nominations total   \n",
       "Monsieur Vincent                   Won 1 Oscar. 2 wins & 4 nominations total   \n",
       "Jigokumon                          Won 2 Oscars. 7 wins & 1 nomination total   \n",
       "Miyamoto Musashi                     Won 1 Oscar. 1 win & 1 nomination total   \n",
       "La strada                         Won 1 Oscar. 12 wins & 5 nominations total   \n",
       "...                                                                      ...   \n",
       "Honeyland                  Nominated for 2 Oscars. 37 wins & 53 nominatio...   \n",
       "Les Misérables                 Won 3 Oscars. 85 wins & 177 nominations total   \n",
       "Better Days                                            1 win & 3 nominations   \n",
       "Collective                                            4 wins & 2 nominations   \n",
       "The Man Who Sold His Skin  Nominated for 1 Oscar. 6 wins & 8 nominations ...   \n",
       "\n",
       "                           sum_of_awards  \n",
       "title                                     \n",
       "Shoeshine                              3  \n",
       "Monsieur Vincent                       7  \n",
       "Jigokumon                             10  \n",
       "Miyamoto Musashi                       3  \n",
       "La strada                             18  \n",
       "...                                  ...  \n",
       "Honeyland                             92  \n",
       "Les Misérables                       265  \n",
       "Better Days                            4  \n",
       "Collective                             6  \n",
       "The Man Who Sold His Skin             15  \n",
       "\n",
       "[142 rows x 2 columns]"
      ]
     },
     "execution_count": 103,
     "metadata": {},
     "output_type": "execute_result"
    }
   ],
   "source": [
    "awards"
   ]
  },
  {
   "cell_type": "code",
   "execution_count": 104,
   "id": "9437fd7e",
   "metadata": {},
   "outputs": [
    {
     "data": {
      "text/html": [
       "<div>\n",
       "<style scoped>\n",
       "    .dataframe tbody tr th:only-of-type {\n",
       "        vertical-align: middle;\n",
       "    }\n",
       "\n",
       "    .dataframe tbody tr th {\n",
       "        vertical-align: top;\n",
       "    }\n",
       "\n",
       "    .dataframe thead th {\n",
       "        text-align: right;\n",
       "    }\n",
       "</style>\n",
       "<table border=\"1\" class=\"dataframe\">\n",
       "  <thead>\n",
       "    <tr style=\"text-align: right;\">\n",
       "      <th></th>\n",
       "      <th>awards</th>\n",
       "      <th>sum_of_awards</th>\n",
       "    </tr>\n",
       "    <tr>\n",
       "      <th>title</th>\n",
       "      <th></th>\n",
       "      <th></th>\n",
       "    </tr>\n",
       "  </thead>\n",
       "  <tbody>\n",
       "    <tr>\n",
       "      <th>Roma</th>\n",
       "      <td>Won 3 Oscars. 250 wins &amp; 218 nominations total</td>\n",
       "      <td>471</td>\n",
       "    </tr>\n",
       "    <tr>\n",
       "      <th>No</th>\n",
       "      <td>Won 4 Oscars. 163 wins &amp; 140 nominations total</td>\n",
       "      <td>307</td>\n",
       "    </tr>\n",
       "    <tr>\n",
       "      <th>Les Misérables</th>\n",
       "      <td>Won 3 Oscars. 85 wins &amp; 177 nominations total</td>\n",
       "      <td>265</td>\n",
       "    </tr>\n",
       "    <tr>\n",
       "      <th>Amour</th>\n",
       "      <td>Won 1 Oscar. 83 wins &amp; 107 nominations total</td>\n",
       "      <td>191</td>\n",
       "    </tr>\n",
       "    <tr>\n",
       "      <th>Ida</th>\n",
       "      <td>Won 1 Oscar. 68 wins &amp; 92 nominations total</td>\n",
       "      <td>161</td>\n",
       "    </tr>\n",
       "    <tr>\n",
       "      <th>Toni Erdmann</th>\n",
       "      <td>Nominated for 1 Oscar. 59 wins &amp; 84 nomination...</td>\n",
       "      <td>144</td>\n",
       "    </tr>\n",
       "    <tr>\n",
       "      <th>Mustang</th>\n",
       "      <td>Nominated for 1 Oscar. 46 wins &amp; 62 nomination...</td>\n",
       "      <td>109</td>\n",
       "    </tr>\n",
       "    <tr>\n",
       "      <th>Honeyland</th>\n",
       "      <td>Nominated for 2 Oscars. 37 wins &amp; 53 nominatio...</td>\n",
       "      <td>92</td>\n",
       "    </tr>\n",
       "    <tr>\n",
       "      <th>Biutiful</th>\n",
       "      <td>Nominated for 2 Oscars. 21 wins &amp; 64 nominatio...</td>\n",
       "      <td>87</td>\n",
       "    </tr>\n",
       "    <tr>\n",
       "      <th>Amores perros</th>\n",
       "      <td>Nominated for 1 Oscar. 55 wins &amp; 25 nomination...</td>\n",
       "      <td>81</td>\n",
       "    </tr>\n",
       "  </tbody>\n",
       "</table>\n",
       "</div>"
      ],
      "text/plain": [
       "                                                           awards  \\\n",
       "title                                                               \n",
       "Roma               Won 3 Oscars. 250 wins & 218 nominations total   \n",
       "No                 Won 4 Oscars. 163 wins & 140 nominations total   \n",
       "Les Misérables      Won 3 Oscars. 85 wins & 177 nominations total   \n",
       "Amour                Won 1 Oscar. 83 wins & 107 nominations total   \n",
       "Ida                   Won 1 Oscar. 68 wins & 92 nominations total   \n",
       "Toni Erdmann    Nominated for 1 Oscar. 59 wins & 84 nomination...   \n",
       "Mustang         Nominated for 1 Oscar. 46 wins & 62 nomination...   \n",
       "Honeyland       Nominated for 2 Oscars. 37 wins & 53 nominatio...   \n",
       "Biutiful        Nominated for 2 Oscars. 21 wins & 64 nominatio...   \n",
       "Amores perros   Nominated for 1 Oscar. 55 wins & 25 nomination...   \n",
       "\n",
       "                sum_of_awards  \n",
       "title                          \n",
       "Roma                      471  \n",
       "No                        307  \n",
       "Les Misérables            265  \n",
       "Amour                     191  \n",
       "Ida                       161  \n",
       "Toni Erdmann              144  \n",
       "Mustang                   109  \n",
       "Honeyland                  92  \n",
       "Biutiful                   87  \n",
       "Amores perros              81  "
      ]
     },
     "execution_count": 104,
     "metadata": {},
     "output_type": "execute_result"
    }
   ],
   "source": [
    "awards.nlargest(10,'sum_of_awards')"
   ]
  },
  {
   "cell_type": "code",
   "execution_count": 105,
   "id": "13835c2a",
   "metadata": {},
   "outputs": [],
   "source": [
    "## I should use merge to add this column into academy dataframe "
   ]
  },
  {
   "cell_type": "code",
   "execution_count": 106,
   "id": "4a087f1b",
   "metadata": {},
   "outputs": [
    {
     "data": {
      "text/plain": [
       "Release date               ['18 May 2012 ( Cannes )', '9 August 2012 (Chi...\n",
       "Country                                                                  NaN\n",
       "Language                                                                 NaN\n",
       "Running time (int)                                                       118\n",
       "Release date (datetime)                                           2012-05-18\n",
       "imdb                                                                     8.1\n",
       "metascore                                                               91.0\n",
       "rotten_tomatoes                                                         93.0\n",
       "plot                       Violence and mayhem ensue after a hunter stumb...\n",
       "genre                                                 Crime, Drama, Thriller\n",
       "awards                        Won 4 Oscars. 163 wins & 140 nominations total\n",
       "Countries                               ['Chile', 'France', 'United States']\n",
       "Languages                                             ['Spanish', 'English']\n",
       "month                                                                    5.0\n",
       "year                                                                  2012.0\n",
       "rotten_tomatoes_norm                                                     9.3\n",
       "metascore_norm                                                           9.1\n",
       "won                                                                        0\n",
       "Name: No, dtype: object"
      ]
     },
     "execution_count": 106,
     "metadata": {},
     "output_type": "execute_result"
    }
   ],
   "source": [
    "academy.loc[\"No\"]"
   ]
  },
  {
   "cell_type": "code",
   "execution_count": null,
   "id": "33f244f3",
   "metadata": {},
   "outputs": [],
   "source": []
  },
  {
   "cell_type": "code",
   "execution_count": null,
   "id": "c6bb869e",
   "metadata": {},
   "outputs": [],
   "source": []
  },
  {
   "cell_type": "code",
   "execution_count": 54,
   "id": "5b102970",
   "metadata": {},
   "outputs": [],
   "source": [
    "ac=academy.dropna(axis=1,how='all')"
   ]
  },
  {
   "cell_type": "code",
   "execution_count": 55,
   "id": "09289e84",
   "metadata": {},
   "outputs": [
    {
     "name": "stdout",
     "output_type": "stream",
     "text": [
      "<class 'pandas.core.frame.DataFrame'>\n",
      "Index: 331 entries, Shoeshine to The Man Who Sold His Skin\n",
      "Data columns (total 20 columns):\n",
      " #   Column                   Non-Null Count  Dtype  \n",
      "---  ------                   --------------  -----  \n",
      " 0   Release date             327 non-null    object \n",
      " 1   Running time             329 non-null    object \n",
      " 2   Country                  213 non-null    object \n",
      " 3   Language                 234 non-null    object \n",
      " 4   Running time (int)       331 non-null    int64  \n",
      " 5   Release date (datetime)  288 non-null    object \n",
      " 6   imdb                     181 non-null    float64\n",
      " 7   metascore                56 non-null     float64\n",
      " 8   rotten_tomatoes          90 non-null     float64\n",
      " 9   plot                     191 non-null    object \n",
      " 10  genre                    217 non-null    object \n",
      " 11  awards                   142 non-null    object \n",
      " 12  Budget                   109 non-null    object \n",
      " 13  Box office               166 non-null    object \n",
      " 14  Countries                117 non-null    object \n",
      " 15  Languages                96 non-null     object \n",
      " 16  month                    288 non-null    float64\n",
      " 17  rotten_tomatoes_norm     90 non-null     float64\n",
      " 18  metascore_norm           56 non-null     float64\n",
      " 19  won                      331 non-null    int32  \n",
      "dtypes: float64(6), int32(1), int64(1), object(12)\n",
      "memory usage: 61.1+ KB\n"
     ]
    }
   ],
   "source": [
    "ac.info()"
   ]
  },
  {
   "cell_type": "code",
   "execution_count": 109,
   "id": "8a4ed573",
   "metadata": {},
   "outputs": [],
   "source": [
    "#Adding a column 'sum of awards'\n",
    "academy['sum_of_awards']=awards[\"sum_of_awards\"]"
   ]
  },
  {
   "cell_type": "code",
   "execution_count": 120,
   "id": "900f0f67",
   "metadata": {},
   "outputs": [
    {
     "data": {
      "text/html": [
       "<div>\n",
       "<style scoped>\n",
       "    .dataframe tbody tr th:only-of-type {\n",
       "        vertical-align: middle;\n",
       "    }\n",
       "\n",
       "    .dataframe tbody tr th {\n",
       "        vertical-align: top;\n",
       "    }\n",
       "\n",
       "    .dataframe thead th {\n",
       "        text-align: right;\n",
       "    }\n",
       "</style>\n",
       "<table border=\"1\" class=\"dataframe\">\n",
       "  <thead>\n",
       "    <tr style=\"text-align: right;\">\n",
       "      <th></th>\n",
       "      <th>Release date</th>\n",
       "      <th>Country</th>\n",
       "      <th>Language</th>\n",
       "      <th>Running time (int)</th>\n",
       "      <th>Release date (datetime)</th>\n",
       "      <th>imdb</th>\n",
       "      <th>metascore</th>\n",
       "      <th>rotten_tomatoes</th>\n",
       "      <th>plot</th>\n",
       "      <th>genre</th>\n",
       "      <th>awards</th>\n",
       "      <th>Countries</th>\n",
       "      <th>Languages</th>\n",
       "      <th>month</th>\n",
       "      <th>year</th>\n",
       "      <th>rotten_tomatoes_norm</th>\n",
       "      <th>metascore_norm</th>\n",
       "      <th>won</th>\n",
       "      <th>sum_of_awards</th>\n",
       "    </tr>\n",
       "    <tr>\n",
       "      <th>title</th>\n",
       "      <th></th>\n",
       "      <th></th>\n",
       "      <th></th>\n",
       "      <th></th>\n",
       "      <th></th>\n",
       "      <th></th>\n",
       "      <th></th>\n",
       "      <th></th>\n",
       "      <th></th>\n",
       "      <th></th>\n",
       "      <th></th>\n",
       "      <th></th>\n",
       "      <th></th>\n",
       "      <th></th>\n",
       "      <th></th>\n",
       "      <th></th>\n",
       "      <th></th>\n",
       "      <th></th>\n",
       "      <th></th>\n",
       "    </tr>\n",
       "  </thead>\n",
       "  <tbody>\n",
       "    <tr>\n",
       "      <th>Roma</th>\n",
       "      <td>['30 August 2018 ( Venice )', '21 November 201...</td>\n",
       "      <td>NaN</td>\n",
       "      <td>NaN</td>\n",
       "      <td>135</td>\n",
       "      <td>2018-08-30</td>\n",
       "      <td>7.7</td>\n",
       "      <td>96.0</td>\n",
       "      <td>96.0</td>\n",
       "      <td>A year in the life of a middle-class family's ...</td>\n",
       "      <td>Drama</td>\n",
       "      <td>Won 3 Oscars. 250 wins &amp; 218 nominations total</td>\n",
       "      <td>['Mexico', 'United States']</td>\n",
       "      <td>['Spanish', 'Mixtec']</td>\n",
       "      <td>8.0</td>\n",
       "      <td>2018.0</td>\n",
       "      <td>9.6</td>\n",
       "      <td>9.6</td>\n",
       "      <td>1</td>\n",
       "      <td>471.0</td>\n",
       "    </tr>\n",
       "    <tr>\n",
       "      <th>No</th>\n",
       "      <td>['18 May 2012 ( Cannes )', '9 August 2012 (Chi...</td>\n",
       "      <td>NaN</td>\n",
       "      <td>NaN</td>\n",
       "      <td>118</td>\n",
       "      <td>2012-05-18</td>\n",
       "      <td>8.1</td>\n",
       "      <td>91.0</td>\n",
       "      <td>93.0</td>\n",
       "      <td>Violence and mayhem ensue after a hunter stumb...</td>\n",
       "      <td>Crime, Drama, Thriller</td>\n",
       "      <td>Won 4 Oscars. 163 wins &amp; 140 nominations total</td>\n",
       "      <td>['Chile', 'France', 'United States']</td>\n",
       "      <td>['Spanish', 'English']</td>\n",
       "      <td>5.0</td>\n",
       "      <td>2012.0</td>\n",
       "      <td>9.3</td>\n",
       "      <td>9.1</td>\n",
       "      <td>0</td>\n",
       "      <td>307.0</td>\n",
       "    </tr>\n",
       "    <tr>\n",
       "      <th>Les Misérables</th>\n",
       "      <td>['15 May 2019 ( Cannes )', '20 November 2019 (...</td>\n",
       "      <td>France</td>\n",
       "      <td>NaN</td>\n",
       "      <td>103</td>\n",
       "      <td>2019-05-15</td>\n",
       "      <td>7.6</td>\n",
       "      <td>63.0</td>\n",
       "      <td>70.0</td>\n",
       "      <td>In 19th-century France, Jean Valjean, who for ...</td>\n",
       "      <td>Drama, History, Musical</td>\n",
       "      <td>Won 3 Oscars. 85 wins &amp; 177 nominations total</td>\n",
       "      <td>NaN</td>\n",
       "      <td>['French', 'English']</td>\n",
       "      <td>5.0</td>\n",
       "      <td>2019.0</td>\n",
       "      <td>7.0</td>\n",
       "      <td>6.3</td>\n",
       "      <td>0</td>\n",
       "      <td>265.0</td>\n",
       "    </tr>\n",
       "  </tbody>\n",
       "</table>\n",
       "</div>"
      ],
      "text/plain": [
       "                                                     Release date Country  \\\n",
       "title                                                                       \n",
       "Roma            ['30 August 2018 ( Venice )', '21 November 201...     NaN   \n",
       "No              ['18 May 2012 ( Cannes )', '9 August 2012 (Chi...     NaN   \n",
       "Les Misérables  ['15 May 2019 ( Cannes )', '20 November 2019 (...  France   \n",
       "\n",
       "               Language  Running time (int) Release date (datetime)  imdb  \\\n",
       "title                                                                       \n",
       "Roma                NaN                 135              2018-08-30   7.7   \n",
       "No                  NaN                 118              2012-05-18   8.1   \n",
       "Les Misérables      NaN                 103              2019-05-15   7.6   \n",
       "\n",
       "                metascore  rotten_tomatoes  \\\n",
       "title                                        \n",
       "Roma                 96.0             96.0   \n",
       "No                   91.0             93.0   \n",
       "Les Misérables       63.0             70.0   \n",
       "\n",
       "                                                             plot  \\\n",
       "title                                                               \n",
       "Roma            A year in the life of a middle-class family's ...   \n",
       "No              Violence and mayhem ensue after a hunter stumb...   \n",
       "Les Misérables  In 19th-century France, Jean Valjean, who for ...   \n",
       "\n",
       "                                  genre  \\\n",
       "title                                     \n",
       "Roma                              Drama   \n",
       "No               Crime, Drama, Thriller   \n",
       "Les Misérables  Drama, History, Musical   \n",
       "\n",
       "                                                        awards  \\\n",
       "title                                                            \n",
       "Roma            Won 3 Oscars. 250 wins & 218 nominations total   \n",
       "No              Won 4 Oscars. 163 wins & 140 nominations total   \n",
       "Les Misérables   Won 3 Oscars. 85 wins & 177 nominations total   \n",
       "\n",
       "                                           Countries               Languages  \\\n",
       "title                                                                          \n",
       "Roma                     ['Mexico', 'United States']   ['Spanish', 'Mixtec']   \n",
       "No              ['Chile', 'France', 'United States']  ['Spanish', 'English']   \n",
       "Les Misérables                                   NaN   ['French', 'English']   \n",
       "\n",
       "                month    year  rotten_tomatoes_norm  metascore_norm  won  \\\n",
       "title                                                                      \n",
       "Roma              8.0  2018.0                   9.6             9.6    1   \n",
       "No                5.0  2012.0                   9.3             9.1    0   \n",
       "Les Misérables    5.0  2019.0                   7.0             6.3    0   \n",
       "\n",
       "                sum_of_awards  \n",
       "title                          \n",
       "Roma                    471.0  \n",
       "No                      307.0  \n",
       "Les Misérables          265.0  "
      ]
     },
     "execution_count": 120,
     "metadata": {},
     "output_type": "execute_result"
    }
   ],
   "source": [
    "academy.nlargest(3,'sum_of_awards')"
   ]
  },
  {
   "cell_type": "code",
   "execution_count": 121,
   "id": "5fe92f86",
   "metadata": {},
   "outputs": [
    {
     "data": {
      "text/html": [
       "<div>\n",
       "<style scoped>\n",
       "    .dataframe tbody tr th:only-of-type {\n",
       "        vertical-align: middle;\n",
       "    }\n",
       "\n",
       "    .dataframe tbody tr th {\n",
       "        vertical-align: top;\n",
       "    }\n",
       "\n",
       "    .dataframe thead th {\n",
       "        text-align: right;\n",
       "    }\n",
       "</style>\n",
       "<table border=\"1\" class=\"dataframe\">\n",
       "  <thead>\n",
       "    <tr style=\"text-align: right;\">\n",
       "      <th></th>\n",
       "      <th>Running time (int)</th>\n",
       "      <th>imdb</th>\n",
       "      <th>metascore</th>\n",
       "      <th>rotten_tomatoes</th>\n",
       "      <th>month</th>\n",
       "      <th>year</th>\n",
       "      <th>rotten_tomatoes_norm</th>\n",
       "      <th>metascore_norm</th>\n",
       "      <th>won</th>\n",
       "      <th>sum_of_awards</th>\n",
       "    </tr>\n",
       "  </thead>\n",
       "  <tbody>\n",
       "    <tr>\n",
       "      <th>count</th>\n",
       "      <td>331.000000</td>\n",
       "      <td>181.000000</td>\n",
       "      <td>56.000000</td>\n",
       "      <td>90.000000</td>\n",
       "      <td>288.000000</td>\n",
       "      <td>288.000000</td>\n",
       "      <td>90.000000</td>\n",
       "      <td>56.000000</td>\n",
       "      <td>331.000000</td>\n",
       "      <td>142.000000</td>\n",
       "    </tr>\n",
       "    <tr>\n",
       "      <th>mean</th>\n",
       "      <td>119.163142</td>\n",
       "      <td>7.030387</td>\n",
       "      <td>72.767857</td>\n",
       "      <td>79.477778</td>\n",
       "      <td>6.559028</td>\n",
       "      <td>1988.239583</td>\n",
       "      <td>7.947778</td>\n",
       "      <td>7.276786</td>\n",
       "      <td>0.220544</td>\n",
       "      <td>27.809859</td>\n",
       "    </tr>\n",
       "    <tr>\n",
       "      <th>std</th>\n",
       "      <td>42.180966</td>\n",
       "      <td>0.951907</td>\n",
       "      <td>15.196879</td>\n",
       "      <td>22.694962</td>\n",
       "      <td>3.309261</td>\n",
       "      <td>19.592759</td>\n",
       "      <td>2.269496</td>\n",
       "      <td>1.519688</td>\n",
       "      <td>0.415241</td>\n",
       "      <td>57.048434</td>\n",
       "    </tr>\n",
       "    <tr>\n",
       "      <th>min</th>\n",
       "      <td>73.000000</td>\n",
       "      <td>3.600000</td>\n",
       "      <td>29.000000</td>\n",
       "      <td>10.000000</td>\n",
       "      <td>1.000000</td>\n",
       "      <td>1946.000000</td>\n",
       "      <td>1.000000</td>\n",
       "      <td>2.900000</td>\n",
       "      <td>0.000000</td>\n",
       "      <td>1.000000</td>\n",
       "    </tr>\n",
       "    <tr>\n",
       "      <th>25%</th>\n",
       "      <td>100.000000</td>\n",
       "      <td>6.600000</td>\n",
       "      <td>62.750000</td>\n",
       "      <td>72.250000</td>\n",
       "      <td>4.000000</td>\n",
       "      <td>1972.000000</td>\n",
       "      <td>7.225000</td>\n",
       "      <td>6.275000</td>\n",
       "      <td>0.000000</td>\n",
       "      <td>5.000000</td>\n",
       "    </tr>\n",
       "    <tr>\n",
       "      <th>50%</th>\n",
       "      <td>111.000000</td>\n",
       "      <td>7.200000</td>\n",
       "      <td>75.000000</td>\n",
       "      <td>88.000000</td>\n",
       "      <td>6.000000</td>\n",
       "      <td>1988.500000</td>\n",
       "      <td>8.800000</td>\n",
       "      <td>7.500000</td>\n",
       "      <td>0.000000</td>\n",
       "      <td>11.000000</td>\n",
       "    </tr>\n",
       "    <tr>\n",
       "      <th>75%</th>\n",
       "      <td>127.000000</td>\n",
       "      <td>7.600000</td>\n",
       "      <td>83.250000</td>\n",
       "      <td>96.000000</td>\n",
       "      <td>9.000000</td>\n",
       "      <td>2005.250000</td>\n",
       "      <td>9.600000</td>\n",
       "      <td>8.325000</td>\n",
       "      <td>0.000000</td>\n",
       "      <td>26.000000</td>\n",
       "    </tr>\n",
       "    <tr>\n",
       "      <th>max</th>\n",
       "      <td>632.000000</td>\n",
       "      <td>9.600000</td>\n",
       "      <td>96.000000</td>\n",
       "      <td>100.000000</td>\n",
       "      <td>12.000000</td>\n",
       "      <td>2020.000000</td>\n",
       "      <td>10.000000</td>\n",
       "      <td>9.600000</td>\n",
       "      <td>1.000000</td>\n",
       "      <td>471.000000</td>\n",
       "    </tr>\n",
       "  </tbody>\n",
       "</table>\n",
       "</div>"
      ],
      "text/plain": [
       "       Running time (int)        imdb  metascore  rotten_tomatoes       month  \\\n",
       "count          331.000000  181.000000  56.000000        90.000000  288.000000   \n",
       "mean           119.163142    7.030387  72.767857        79.477778    6.559028   \n",
       "std             42.180966    0.951907  15.196879        22.694962    3.309261   \n",
       "min             73.000000    3.600000  29.000000        10.000000    1.000000   \n",
       "25%            100.000000    6.600000  62.750000        72.250000    4.000000   \n",
       "50%            111.000000    7.200000  75.000000        88.000000    6.000000   \n",
       "75%            127.000000    7.600000  83.250000        96.000000    9.000000   \n",
       "max            632.000000    9.600000  96.000000       100.000000   12.000000   \n",
       "\n",
       "              year  rotten_tomatoes_norm  metascore_norm         won  \\\n",
       "count   288.000000             90.000000       56.000000  331.000000   \n",
       "mean   1988.239583              7.947778        7.276786    0.220544   \n",
       "std      19.592759              2.269496        1.519688    0.415241   \n",
       "min    1946.000000              1.000000        2.900000    0.000000   \n",
       "25%    1972.000000              7.225000        6.275000    0.000000   \n",
       "50%    1988.500000              8.800000        7.500000    0.000000   \n",
       "75%    2005.250000              9.600000        8.325000    0.000000   \n",
       "max    2020.000000             10.000000        9.600000    1.000000   \n",
       "\n",
       "       sum_of_awards  \n",
       "count     142.000000  \n",
       "mean       27.809859  \n",
       "std        57.048434  \n",
       "min         1.000000  \n",
       "25%         5.000000  \n",
       "50%        11.000000  \n",
       "75%        26.000000  \n",
       "max       471.000000  "
      ]
     },
     "execution_count": 121,
     "metadata": {},
     "output_type": "execute_result"
    }
   ],
   "source": [
    "academy.describe()"
   ]
  },
  {
   "cell_type": "markdown",
   "id": "70cb2b9c",
   "metadata": {},
   "source": [
    "#### Creating a plot to compare Winners and nominees through the months  "
   ]
  },
  {
   "cell_type": "code",
   "execution_count": 130,
   "id": "cfd7b9e2",
   "metadata": {},
   "outputs": [
    {
     "data": {
      "text/plain": [
       "<AxesSubplot:xlabel='month', ylabel='Count'>"
      ]
     },
     "execution_count": 130,
     "metadata": {},
     "output_type": "execute_result"
    },
    {
     "data": {
      "image/png": "[encoded data removed]",
      "text/plain": [
       "<Figure size 432x288 with 1 Axes>"
      ]
     },
     "metadata": {
      "needs_background": "light"
     },
     "output_type": "display_data"
    }
   ],
   "source": [
    "#plt.figure(figsize=(7,5),dpi=150)\n",
    "sns.histplot(data=academy,x='month',bins=12)"
   ]
  },
  {
   "cell_type": "code",
   "execution_count": 124,
   "id": "5424ff6c",
   "metadata": {},
   "outputs": [
    {
     "data": {
      "text/plain": [
       "<AxesSubplot:xlabel='month', ylabel='Count'>"
      ]
     },
     "execution_count": 124,
     "metadata": {},
     "output_type": "execute_result"
    },
    {
     "data": {
      "image/png": "[encoded data removed]",
      "text/plain": [
       "<Figure size 432x288 with 1 Axes>"
      ]
     },
     "metadata": {
      "needs_background": "light"
     },
     "output_type": "display_data"
    }
   ],
   "source": [
    "sns.histplot(data=winners,x='month',bins=12)"
   ]
  },
  {
   "cell_type": "code",
   "execution_count": 129,
   "id": "bd330530",
   "metadata": {},
   "outputs": [
    {
     "data": {
      "text/plain": [
       "<AxesSubplot:xlabel='month', ylabel='count'>"
      ]
     },
     "execution_count": 129,
     "metadata": {},
     "output_type": "execute_result"
    },
    {
     "data": {
      "image/png": "[encoded data removed]",
      "text/plain": [
       "<Figure size 2000x800 with 1 Axes>"
      ]
     },
     "metadata": {
      "needs_background": "light"
     },
     "output_type": "display_data"
    }
   ],
   "source": [
    "plt.figure(figsize=(10,4),dpi=200)\n",
    "sns.countplot(x='month',data=academy,hue='won')"
   ]
  },
  {
   "cell_type": "markdown",
   "id": "dfa0194a",
   "metadata": {},
   "source": [
    "We can clearly see that in 5th month of the year (May) we have the most nominees and winners \n"
   ]
  },
  {
   "cell_type": "code",
   "execution_count": 137,
   "id": "062adff3",
   "metadata": {},
   "outputs": [
    {
     "data": {
      "image/png": "[encoded data removed]",
      "text/plain": [
       "<Figure size 2000x800 with 1 Axes>"
      ]
     },
     "metadata": {
      "needs_background": "light"
     },
     "output_type": "display_data"
    }
   ],
   "source": [
    "plt.figure(figsize=(10,4),dpi=200)\n",
    "ax=sns.countplot(x='genre',data=academy)\n",
    "plt.xticks(rotation=90)\n",
    "plt.show()"
   ]
  },
  {
   "cell_type": "code",
   "execution_count": 133,
   "id": "5c292c7b",
   "metadata": {},
   "outputs": [
    {
     "data": {
      "text/plain": [
       "Drama                        35\n",
       "Comedy, Drama                10\n",
       "Short, Drama                 10\n",
       "Documentary, Short            9\n",
       "Documentary                   8\n",
       "                             ..\n",
       "Adventure, Drama, Romance     1\n",
       "Action, Sci-Fi, Thriller      1\n",
       "Action                        1\n",
       "Comedy, Family                1\n",
       "Crime, Horror, Thriller       1\n",
       "Name: genre, Length: 87, dtype: int64"
      ]
     },
     "execution_count": 133,
     "metadata": {},
     "output_type": "execute_result"
    }
   ],
   "source": [
    "academy['genre'].value_counts()"
   ]
  },
  {
   "cell_type": "code",
   "execution_count": 142,
   "id": "cb484ef9",
   "metadata": {},
   "outputs": [
    {
     "data": {
      "text/plain": [
       "<AxesSubplot:xlabel='Running time (int)', ylabel='sum_of_awards'>"
      ]
     },
     "execution_count": 142,
     "metadata": {},
     "output_type": "execute_result"
    },
    {
     "data": {
      "image/png": "[encoded data removed]",
      "text/plain": [
       "<Figure size 864x576 with 1 Axes>"
      ]
     },
     "metadata": {
      "needs_background": "light"
     },
     "output_type": "display_data"
    }
   ],
   "source": [
    "plt.figure(figsize=(12,8))\n",
    "sns.scatterplot(x='Running time (int)',y='sum_of_awards',data=academy,hue='won')"
   ]
  },
  {
   "cell_type": "markdown",
   "id": "ecd4c545",
   "metadata": {},
   "source": [
    "#### How successful were the movies who won an Oscar comparing to the ones who didn't? Measuring the awards and nominations they recieved."
   ]
  },
  {
   "cell_type": "code",
   "execution_count": 144,
   "id": "716ce050",
   "metadata": {},
   "outputs": [
    {
     "data": {
      "text/plain": [
       "<AxesSubplot:xlabel='won', ylabel='sum_of_awards'>"
      ]
     },
     "execution_count": 144,
     "metadata": {},
     "output_type": "execute_result"
    },
    {
     "data": {
      "image/png": "[encoded data removed]",
      "text/plain": [
       "<Figure size 864x720 with 1 Axes>"
      ]
     },
     "metadata": {
      "needs_background": "light"
     },
     "output_type": "display_data"
    }
   ],
   "source": [
    "plt.figure(figsize=(12,10))\n",
    "sns.boxplot(x='won',y='sum_of_awards',data=academy)"
   ]
  },
  {
   "cell_type": "markdown",
   "id": "1f72af2c",
   "metadata": {},
   "source": [
    "We can see that the movies that won Oscar are little more successful than the movies who didn't win. Of course we do have some outliers like the 2 movies that recieved around 300 awards or nominations around the world but did not win an oscar."
   ]
  },
  {
   "cell_type": "code",
   "execution_count": null,
   "id": "dfec1188",
   "metadata": {},
   "outputs": [],
   "source": []
  }
 ],
 "metadata": {
  "kernelspec": {
   "display_name": "Python 3",
   "language": "python",
   "name": "python3"
  },
  "language_info": {
   "codemirror_mode": {
    "name": "ipython",
    "version": 3
   },
   "file_extension": ".py",
   "mimetype": "text/x-python",
   "name": "python",
   "nbconvert_exporter": "python",
   "pygments_lexer": "ipython3",
   "version": "3.8.8"
  }
 },
 "nbformat": 4,
 "nbformat_minor": 5
}
