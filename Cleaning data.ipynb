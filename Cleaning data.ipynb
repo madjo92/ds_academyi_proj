{
 "cells": [
  {
   "cell_type": "markdown",
   "id": "29b606fd",
   "metadata": {},
   "source": [
    "## Clean our data"
   ]
  },
  {
   "cell_type": "code",
   "execution_count": 13,
   "id": "d97ecd28",
   "metadata": {},
   "outputs": [],
   "source": [
    "from bs4 import BeautifulSoup as bs\n",
    "import requests"
   ]
  },
  {
   "cell_type": "code",
   "execution_count": 17,
   "id": "c4d7be4e",
   "metadata": {},
   "outputs": [],
   "source": [
    "import json\n",
    "\n",
    "def load_data(title):\n",
    "    with open(title, encoding=\"utf-8\") as f:\n",
    "        return json.load(f)"
   ]
  },
  {
   "cell_type": "code",
   "execution_count": 19,
   "id": "05b4ebb5",
   "metadata": {},
   "outputs": [],
   "source": [
    "movie_info_list=load_data(\"academy_international_movies.json\")"
   ]
  },
  {
   "cell_type": "markdown",
   "id": "ae6fbb5e",
   "metadata": {},
   "source": [
    "#### Subtasks\n",
    "- ~~Clean up references [1]~~\n",
    "- ~~Convert running time into an integer~~\n",
    "- Convert dates into datetime object\n",
    "- ~~Split up the long strings~~\n",
    "- ~~Convert Budget and Box office to numbers~~"
   ]
  },
  {
   "cell_type": "code",
   "execution_count": 21,
   "id": "7f71b7f5",
   "metadata": {},
   "outputs": [
    {
     "data": {
      "text/plain": [
       "{'title': 'Theeb',\n",
       " 'Directed by': 'Naji Abu Nowar',\n",
       " 'Written by': ['Naji Abu Nowar', 'Bassel Ghandour'],\n",
       " 'Produced by': ['Bassel Ghandour',\n",
       "  'Rupert Lloyd',\n",
       "  'Nadine Toukan',\n",
       "  'Nasser Kalaji',\n",
       "  'Laith Majali',\n",
       "  'Diala Al Raie',\n",
       "  'Yanal Kassay'],\n",
       " 'Starring': 'Jacir Eid Al-Hwietat',\n",
       " 'Cinematography': 'Wolfgang Thaler',\n",
       " 'Edited by': 'Rupert Lloyd',\n",
       " 'Music by': 'Jerry Lane',\n",
       " 'Production companies': ['Bayt Al Shawareb',\n",
       "  'Noor Pictures',\n",
       "  'Immortal Entertainment'],\n",
       " 'Distributed by': ['MAD Solutions (MENA)',\n",
       "  'Film Movement',\n",
       "  '(US)',\n",
       "  'New Wave Films (UK)'],\n",
       " 'Release date': ['4 September 2014 ( Venice )',\n",
       "  '19 March 2015 (UAE)',\n",
       "  '19 March 2015 (Jordan)',\n",
       "  '14 August 2015 (UK)'],\n",
       " 'Running time': '100 minutes',\n",
       " 'Countries': ['Jordan', 'United Kingdom', 'United Arab Emirates', 'Qatar'],\n",
       " 'Languages': 'Hejazi Arabic , English',\n",
       " 'Box office': '$774,556'}"
      ]
     },
     "execution_count": 21,
     "metadata": {},
     "output_type": "execute_result"
    }
   ],
   "source": [
    "movie_info_list[-26]"
   ]
  },
  {
   "cell_type": "markdown",
   "id": "16063f36",
   "metadata": {},
   "source": [
    "#### Converting running time into an integer"
   ]
  },
  {
   "cell_type": "code",
   "execution_count": 24,
   "id": "9325b932",
   "metadata": {},
   "outputs": [],
   "source": [
    "def minutes_to_integer(running_time):\n",
    "    if running_time == \"N/A\":\n",
    "        return None\n",
    "    \n",
    "    if isinstance(running_time, list):\n",
    "        return running_time[0].split(\" \")[0]\n",
    "    else: # is a string\n",
    "        return int(running_time.split(\" \")[0])\n",
    "\n",
    "for movie in movie_info_list:\n",
    "    movie['Running time (int)'] = minutes_to_integer(movie.get('Running time', \"N/A\"))\n",
    "#Othe more difficult edge cases I will fix with pandas"
   ]
  },
  {
   "cell_type": "code",
   "execution_count": 25,
   "id": "b4305abd",
   "metadata": {},
   "outputs": [
    {
     "name": "stdout",
     "output_type": "stream",
     "text": [
      "[93, 111, 89, 'France:', 88, 86, 86, 93, 108, 93, 120, '143', 118, 118, 97, 95, 172, 96, '120', 100, 122, 162, 111, 107, 105, 135, 'Denmark', 92, 89, 116, 130, 90, 107, 91, 105, 107, 100, 85, 110, 110, 124, 91, 105, 138, 94, 112, 132, 106, 118, 101, 110, 91, 146, 125, 130, 115, 182, 102, 102, 120, 90, 175, 80, 92, 103, 82, 130, 125, 'Part', 110, 73, 100, 91, 127, 114, '175', 232, 110, 115, None, 105, 91, 100, 94, 140, 191, 87, 157, 101, 188, 92, 80, 202, 116, 110, 100, 97, 108, 124, 115, 287, 138, 108, 144, 110, 180, 121, 103, 90, 95, 100, 632, 115, 105, 127, 124, 106, 102, 105, 93, 107, '115', 183, '142', 118, 100, 107, 110, 140, 105, 180, 131, 97, 144, 101, 153, 105, 113, 87, 89, 128, 140, 102, 'TV', 102, 110, 110, 110, 103, 105, 115, 92, 112, 105, 144, 106, 136, 144, 97, '120', 101, 98, 102, 104, 94, 137, 86, 157, 140, 99, 113, 89, '155', 175, 118, 87, 105, 110, 137, 95, 94, 108, 96, 82, 100, 92, 125, 159, 118, 138, 120, 115, 109, '171', 123, 104, 106, 135, 113, 123, 111, 108, 102, 130, 87, 92, 113, 105, 100, 103, 98, 102, 122, 112, 110, 105, 96, 116, 113, 89, 151, 115, '104', 124, 108, 105, 118, 120, 153, 123, 97, 112, 98, 123, 89, 224, 123, 141, 118, 99, 97, 100, 99, 113, 129, None, 150, 125, 132, 96, 155, 96, 95, 120, 116, 91, 117, 137, 124, 123, 119, 114, 98, 125, 115, 125, 159, 130, '149', 128, 122, 90, 129, 120, 95, 155, 144, 118, 147, 97, 130, 137, 123, 128, 107, 144, 94, 127, '119', 118, 137, 90, '142', 111, 115, 92, 96, 82, 141, 87, 96, 122, 107, 125, 97, 100, 115, 125, 90, 116, 100, 162, 104, 112, 127, 116, 151, 135, 126, 88, 188, 121, 132, 116, 87, 103, 114, 117, 135, 109, 104]\n"
     ]
    }
   ],
   "source": [
    "print([movie.get('Running time (int)', 'N/A') for movie in movie_info_list])\n"
   ]
  },
  {
   "cell_type": "code",
   "execution_count": null,
   "id": "99406239",
   "metadata": {},
   "outputs": [],
   "source": []
  }
 ],
 "metadata": {
  "kernelspec": {
   "display_name": "Python 3",
   "language": "python",
   "name": "python3"
  },
  "language_info": {
   "codemirror_mode": {
    "name": "ipython",
    "version": 3
   },
   "file_extension": ".py",
   "mimetype": "text/x-python",
   "name": "python",
   "nbconvert_exporter": "python",
   "pygments_lexer": "ipython3",
   "version": "3.8.8"
  }
 },
 "nbformat": 4,
 "nbformat_minor": 5
}
