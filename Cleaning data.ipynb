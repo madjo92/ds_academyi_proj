{
 "cells": [
  {
   "cell_type": "markdown",
   "id": "29b606fd",
   "metadata": {},
   "source": [
    "## Clean our data"
   ]
  },
  {
   "cell_type": "code",
   "execution_count": 95,
   "id": "d97ecd28",
   "metadata": {},
   "outputs": [],
   "source": [
    "from bs4 import BeautifulSoup as bs\n",
    "import requests\n",
    "\n"
   ]
  },
  {
   "cell_type": "code",
   "execution_count": 79,
   "id": "c4d7be4e",
   "metadata": {},
   "outputs": [],
   "source": [
    "import json\n",
    "\n",
    "def load_data(title):\n",
    "    with open(title, encoding=\"utf-8\") as f:\n",
    "        return json.load(f)"
   ]
  },
  {
   "cell_type": "code",
   "execution_count": 80,
   "id": "05b4ebb5",
   "metadata": {},
   "outputs": [],
   "source": [
    "movie_info_list=load_data(\"academy_international_movies.json\")"
   ]
  },
  {
   "cell_type": "markdown",
   "id": "ae6fbb5e",
   "metadata": {},
   "source": [
    "#### Subtasks\n",
    "- ~~Clean up references [1]~~\n",
    "- ~~Convert running time into an integer~~\n",
    "- Convert dates into datetime object\n",
    "- ~~Split up the long strings~~\n",
    "- ~~Convert Budget and Box office to numbers~~"
   ]
  },
  {
   "cell_type": "code",
   "execution_count": 81,
   "id": "7f71b7f5",
   "metadata": {},
   "outputs": [
    {
     "data": {
      "text/plain": [
       "{'title': 'Theeb',\n",
       " 'Directed by': 'Naji Abu Nowar',\n",
       " 'Written by': ['Naji Abu Nowar', 'Bassel Ghandour'],\n",
       " 'Produced by': ['Bassel Ghandour',\n",
       "  'Rupert Lloyd',\n",
       "  'Nadine Toukan',\n",
       "  'Nasser Kalaji',\n",
       "  'Laith Majali',\n",
       "  'Diala Al Raie',\n",
       "  'Yanal Kassay'],\n",
       " 'Starring': 'Jacir Eid Al-Hwietat',\n",
       " 'Cinematography': 'Wolfgang Thaler',\n",
       " 'Edited by': 'Rupert Lloyd',\n",
       " 'Music by': 'Jerry Lane',\n",
       " 'Production companies': ['Bayt Al Shawareb',\n",
       "  'Noor Pictures',\n",
       "  'Immortal Entertainment'],\n",
       " 'Distributed by': ['MAD Solutions (MENA)',\n",
       "  'Film Movement',\n",
       "  '(US)',\n",
       "  'New Wave Films (UK)'],\n",
       " 'Release date': ['4 September 2014 ( Venice )',\n",
       "  '19 March 2015 (UAE)',\n",
       "  '19 March 2015 (Jordan)',\n",
       "  '14 August 2015 (UK)'],\n",
       " 'Running time': '100 minutes',\n",
       " 'Countries': ['Jordan', 'United Kingdom', 'United Arab Emirates', 'Qatar'],\n",
       " 'Languages': 'Hejazi Arabic , English',\n",
       " 'Box office': '$774,556'}"
      ]
     },
     "execution_count": 81,
     "metadata": {},
     "output_type": "execute_result"
    }
   ],
   "source": [
    "movie_info_list[-26]"
   ]
  },
  {
   "cell_type": "markdown",
   "id": "16063f36",
   "metadata": {},
   "source": [
    "#### Converting running time into an integer"
   ]
  },
  {
   "cell_type": "code",
   "execution_count": 82,
   "id": "9325b932",
   "metadata": {},
   "outputs": [],
   "source": [
    "def minutes_to_integer(running_time):\n",
    "    if running_time == \"N/A\":\n",
    "        return None\n",
    "    \n",
    "    if isinstance(running_time, list):\n",
    "        return running_time[0].split(\" \")[0]\n",
    "    else: # is a string\n",
    "        return int(running_time.split(\" \")[0])\n",
    "\n",
    "for movie in movie_info_list:\n",
    "    movie['Running time (int)'] = minutes_to_integer(movie.get('Running time', \"N/A\"))\n",
    "#Othe more difficult edge cases I will fix with pandas"
   ]
  },
  {
   "cell_type": "code",
   "execution_count": 83,
   "id": "b4305abd",
   "metadata": {},
   "outputs": [
    {
     "name": "stdout",
     "output_type": "stream",
     "text": [
      "[93, 111, 89, 'France:', 88, 86, 86, 93, 108, 93, 120, '143', 118, 118, 97, 95, 172, 96, '120', 100, 122, 162, 111, 107, 105, 135, 'Denmark', 92, 89, 116, 130, 90, 107, 91, 105, 107, 100, 85, 110, 110, 124, 91, 105, 138, 94, 112, 132, 106, 118, 101, 110, 91, 146, 125, 130, 115, 182, 102, 102, 120, 90, 175, 80, 92, 103, 82, 130, 125, 'Part', 110, 73, 100, 91, 127, 114, '175', 232, 110, 115, None, 105, 91, 100, 94, 140, 191, 87, 157, 101, 188, 92, 80, 202, 116, 110, 100, 97, 108, 124, 115, 287, 138, 108, 144, 110, 180, 121, 103, 90, 95, 100, 632, 115, 105, 127, 124, 106, 102, 105, 93, 107, '115', 183, '142', 118, 100, 107, 110, 140, 105, 180, 131, 97, 144, 101, 153, 105, 113, 87, 89, 128, 140, 102, 'TV', 102, 110, 110, 110, 103, 105, 115, 92, 112, 105, 144, 106, 136, 144, 97, '120', 101, 98, 102, 104, 94, 137, 86, 157, 140, 99, 113, 89, '155', 175, 118, 87, 105, 110, 137, 95, 94, 108, 96, 82, 100, 92, 125, 159, 118, 138, 120, 115, 109, '171', 123, 104, 106, 135, 113, 123, 111, 108, 102, 130, 87, 92, 113, 105, 100, 103, 98, 102, 122, 112, 110, 105, 96, 116, 113, 89, 151, 115, '104', 124, 108, 105, 118, 120, 153, 123, 97, 112, 98, 123, 89, 224, 123, 141, 118, 99, 97, 100, 99, 113, 129, None, 150, 125, 132, 96, 155, 96, 95, 120, 116, 91, 117, 137, 124, 123, 119, 114, 98, 125, 115, 125, 159, 130, '149', 128, 122, 90, 129, 120, 95, 155, 144, 118, 147, 97, 130, 137, 123, 128, 107, 144, 94, 127, '119', 118, 137, 90, '142', 111, 115, 92, 96, 82, 141, 87, 96, 122, 107, 125, 97, 100, 115, 125, 90, 116, 100, 162, 104, 112, 127, 116, 151, 135, 126, 88, 188, 121, 132, 116, 87, 103, 114, 117, 135, 109, 104]\n"
     ]
    }
   ],
   "source": [
    "print([movie.get('Running time (int)', 'N/A') for movie in movie_info_list])\n"
   ]
  },
  {
   "cell_type": "code",
   "execution_count": 84,
   "id": "b0a8636e",
   "metadata": {},
   "outputs": [
    {
     "name": "stdout",
     "output_type": "stream",
     "text": [
      "['N/A', 'N/A', '$133,000', 'N/A', '$250,000', 'N/A', 'N/A', 'N/A', 'N/A', 'N/A', 'N/A', 'N/A', 'N/A', 'N/A', 'N/A', 'N/A', 'est.', 'N/A', 'FRF 250,000 (est.)', 'N/A', 'N/A', 'N/A', 'N/A', 'N/A', 'N/A', 'N/A', 'N/A', 'N/A', 'N/A', 'N/A', 'N/A', 'N/A', 'N/A', 'N/A', 'N/A', 'N/A', 'N/A', 'N/A', 'N/A', 'N/A', '$800,000', 'N/A', 'N/A', 'N/A', 'N/A', 'N/A', 'N/A', 'N/A', 'N/A', 'N/A', 'N/A', 'N/A', 'N/A', 'N/A', 'N/A', 'N/A', '¥320 million', 'N/A', 'N/A', '$800,000', 'N/A', 'N/A', 'N/A', 'N/A', 'N/A', 'N/A', 'N/A', 'N/A', ['8,291,712 Soviet rubles', '(US$9.2 million)'], 'N/A', '$65,000', 'N/A', '$350,000', 'N/A', 'N/A', '$12 million', 'N/A', 'N/A', 'N/A', 'N/A', 'N/A', 'N/A', 'N/A', 'N/A', 'N/A', '$1.6 million', 'N/A', 'N/A', '$800,000', 'N/A', 'N/A', 'N/A', 'N/A', '$700,000', 'N/A', 'N/A', 'N/A', '€365,000', 'N/A', 'N/A', 'N/A', 'N/A', 'N/A', '$4 million (est.)', 'N/A', 'N/A', 'N/A', 'N/A', 'N/A', '$400,000', '2,411,600 East German Mark', 'N/A', 'N/A', 'N/A', 'N/A', 'N/A', 'N/A', 'N/A', 'N/A', 'N/A', 'N/A', 'N/A', 'N/A', '$3 million', 'N/A', 'N/A', 'N/A', 'N/A', 'N/A', 'N/A', ['', 'or'], 'N/A', 'N/A', 'N/A', 'N/A', 'N/A', 'N/A', 'N/A', 'N/A', 'N/A', 'N/A', '20 million SEK', 'N/A', 'USD $6 million', 'N/A', 'N/A', 'N/A', 'N/A', 'N/A', 'N/A', 'N/A', 'N/A', 'N/A', 'N/A', 'N/A', 'N/A', 'N/A', 'N/A', 'N/A', 'N/A', '$1.8 million', 'N/A', 'N/A', 'N/A', 'N/A', 'N/A', 'N/A', '$4.5 million', '$59,701', 'N/A', '$450,000', 'N/A', 'US$5 million', 'N/A', '$4.2 million', 'N/A', '$500,000', 'N/A', '$15.3 million', 'N/A', 'N/A', 'N/A', 'N/A', 'N/A', 'N/A', 'N/A', 'N/A', 'N/A', 'N/A', 'N/A', 'N/A', 'N/A', 'N/A', 'N/A', 'N/A', 'N/A', '$1 million', '$3.6 million', 'N/A', '$1.5 million', '$9 million', 'N/A', '£1.5 million', '25 million DKK', 'N/A', 'N/A', 'N/A', ['CZK 28 million', '(app. $1 million)'], '17,000,000 ₣ (est.)', 'N/A', 'N/A', '$8.3 million', '$4.5 million', 'N/A', 'N/A', 'N/A', '$2 million', '$20 million', '$2.9 million', 'US $180,000', 'N/A', '$4 685 408 USD', 'P 600 million ($4,989,091)', '$9.1 million', '$4.4 million', 'N/A', 'N/A', 'US$17 million', '$2.4 million', 'N/A', 'N/A', '$10.2 million', '€2 million', '$10 million', 'N/A', '25 crore', 'N/A', '€ 7 million', '$1.8 million', '$31 million', '€1,206,000', 'N/A', '5 million', '$3,000,000', 'N/A', 'N/A', '50,000,000 CZK', '€10 million', ['SEK', '25,000,000 ≈', 'US$3,700,000'], '$5.3 million', '€13.5 million (approx. $15 million)', 'N/A', '$3 million', 'N/A', '$22 million', 'N/A', 'N/A', '$2 million', 'N/A', '$14.5 million', '$19 million', 'N/A', '$6,250,000', 'N/A', ['15,000,000 PLN', '€4,000,000'], '$18 million', '$2.5 million', 'N/A', '€13.5 million ($19.7 million)', '€2.5 million', 'N/A', '$2 million', '$2 million', '$1 million', 'N/A', '$13 million', '18 million', 'US$5.5 million', '$35 million', '€250,000', '$6.5 million', '$22.6 million', '$800,000', 'N/A', 'N/A', 'N/A', 'N/A', '$ 8.9 million', '93 million NOK (c. US $15.5 million)', 'N/A', 'N/A', 'N/A', '€9,200,000', 'N/A', '$3.45 million', 'N/A', 'N/A', '$2.6 million', '220 million RUB ( )', '€650,000', 'N/A', '$3.3–4 million', '€1.5 million', '$1.4 million', '$1.3 million', 'N/A', ['8 million Danish krone', '( USD$ 1.2 million)'], 'N/A', '35.5 million DKK', 'N/A', 'N/A', ['€ 3 million', '( USD$ 3.2 million)'], 'N/A', 'N/A', 'N/A', 'N/A', '$5.5 million', '$15 million', '', '€4.3 million (~USD$4.8 million)', 'N/A', 'N/A', ['₩17.0 billion'], '$1.3 million', 'N/A', ['€ 2.080.000', '(≃$2.5 million)'], '$10.8 million', ['kr', '33.5\\xa0million', '(', 'US$', '5.7\\xa0million)'], 'N/A', 'N/A', 'N/A']\n"
     ]
    }
   ],
   "source": [
    "#Convert budget and box office money into integer\n",
    "print([movie.get('Budget', 'N/A') for movie in movie_info_list])"
   ]
  },
  {
   "cell_type": "code",
   "execution_count": 85,
   "id": "99406239",
   "metadata": {},
   "outputs": [
    {
     "name": "stdout",
     "output_type": "stream",
     "text": [
      "221\n"
     ]
    }
   ],
   "source": [
    "#len([movie.get('Budget', 'N/A') for movie in movie_info_list if movie.get('Budget', 'N/A')=='N/A'])\n",
    "\n",
    "print([movie.get('Budget', 'N/A') for movie in movie_info_list].count('N/A'))\n",
    "\n",
    "#BECAUSE 221 VALUES out of 331 ARE MISSING, I DECIDE NOT TO INCLUDE THIS FIELD IN THE ANALYSIS."
   ]
  },
  {
   "cell_type": "markdown",
   "id": "9d95e286",
   "metadata": {},
   "source": [
    "### Convert Dates into datetimes"
   ]
  },
  {
   "cell_type": "code",
   "execution_count": 86,
   "id": "6072a736",
   "metadata": {},
   "outputs": [
    {
     "name": "stdout",
     "output_type": "stream",
     "text": [
      "[['27 April 1946'], ['5 November 1947'], ['24 November 1948 (Italy)'], ['France', ':', '16 November 1949', 'United States', ':', '26 March 1950'], ['August 25, 1950'], ['9 May 1952 (France)', '8 December 1952 (USA)'], ['October 31, 1953'], ['26 September 1954 (Japan)'], ['6 September 1954 ( Venice )', '22 September 1954 (Italy)'], ['16 August 1956'], ['3 August 1956 (West Germany)', '5 September 1956 (France)'], ['Part I: 21 January 1956', 'Part II: 12 February 1956 (Japan)'], ['1956'], ['10 May 1957 ( Cannes )', '27 May 1957 (Italy)', '16 October 1957 (France)'], ['1957'], ['20 September 1957 (Italy)', '25 September 1957 (France)'], ['25 October 1957 (India)'], ['11 November 1957'], ['10 May 1958'], ['20 November 1958'], ['1958 ( Cannes Film Festival )', '16 February 1959'], ['12 July 1958'], ['30 June 1958'], ['12 June 1959 (France)'], ['22 October 1959'], ['September 1959 (premiere at VFF )'], ['Denmark', ':', '18 December 1959', 'United States', ':', 'April 1970'], ['19 August 1958'], ['8 February 1960'], ['29 September 1960 (Italy)'], ['2 November 1960'], ['May 1960 ( Cannes )', '9 June 1960 (Mexico)'], ['21 April 1960'], ['16 October 1961'], ['8 September 1961'], ['September 16, 1961'], ['January 10, 1962 (Mexico)'], ['3 November 1960'], ['12 November 1962'], ['1962'], ['16 November 1962'], ['August 6, 1962'], ['27 December 1962'], ['14 February 1963'], ['9 March 1962 (Poland)', '28 October 1963 (U.S.)'], ['5 November 1963'], ['1963'], ['13 January 1963 (Japan)'], ['19 December 1963'], ['26 December 1963'], ['June 1964'], ['19 February 1964 (France)', '12 November 1965 (West Germany)'], ['February 15, 1964 (Japan)'], ['8 October 1965'], ['1966'], ['23 November 1964'], ['January 6, 1965 (Japan)'], ['1964'], ['12 July 1966'], ['August 31, 1966 ( VIFF )', 'September 8, 1966 (Algeria)'], ['November 12, 1965'], ['11 March 1966'], ['1965'], ['18 November 1966'], ['14 September 1967'], ['1967'], '1967', ['June 5, 1967'], ['14 March 1966 (Part I)', '20 July 1966 (Part II)', '21 July 1967 (Part III)', '4 November 1967 (Part IV)'], ['23 June 1969'], ['15 December 1967'], ['1968'], ['14 August 1968 ( Avignon )', '4 September 1968 (France)'], ['26 February 1969 (France)', 'May 1969 ( Cannes )'], ['1 May 1969 (Sweden)'], ['7 October 1969'], ['1969'], ['15 May 1969'], ['February 9, 1970 (Italy)', 'December 20, 1970 (United States)'], ['10 July 1970 ( San Sebastian Film Festival )'], ['17 July 1970'], ['1970'], ['29 March 1970 (Spain)', '29 April 1970 (France)', '27 August 1970 (Italy)'], ['4 December 1970'], ['October 31, 1970'], ['8 March 1971 (Sweden)'], ['1970'], ['1970'], ['15 September 1972'], ['1972'], ['1972'], ['17 February 1972'], ['26 February 1972 (Sweden)'], ['14 May 1973 ( Cannes )', '24 May 1973 (France)'], ['1973'], ['May 1973 (Cannes)'], ['6 September 1973'], ['22 February 1973 (Netherlands)'], ['18 December 1973 (Italy)'], ['1972'], ['1974'], ['30 January 1974 (France)'], ['August 1, 1974'], ['July 1975 (USSR)', '2 August 1975 (Japan)'], ['8 April 1976'], ['1975'], ['November 2, 1974'], ['20 December 1974'], ['22 September 1976'], ['19 November 1975 (France)'], ['22 December 1974 (GDR TV)', '18 April 1975 (GDR cinema)', '31 October 1975 (FRG)'], ['23 September 1975'], ['4 May 1975 (France)', '20 December 1975 (Italy)'], ['2 November 1977'], 'N/A', ['May 23, 1979', 'U.S Release'], ['17 May 1977 ( Cannes )', '12 August 1977 (Italy)'], ['17 August 1977 (France)'], ['11 January 1978'], ['6 April 1978'], ['8 February 1978'], ['15 December 1977'], ['September 15, 1977'], ['3 May 1979 ( Wiesbaden )', '19 September 1979 (France)'], ['4 September 1979'], ['17 September 1979'], ['22 November 1978'], ['14 April 1979'], '11 February 1980', ['10 January 1980'], ['April 26, 1980 (Japan)'], ['17 September 1980'], ['18 September 1980'], ['29 April 1981 (Germany)', '8 October 1981 (Hungary)'], ['February 1981'], ['27 July 1981'], ['January 30, 1981'], ['15 May 1981 (France)'], ['11 March 1982'], ['1 May 1982 ( New York City )'], ['4 November 1981'], ['26 August 1982 (Sweden)'], ['1982'], ['17 December 1982 (Sweden )', '9 March 1983 (France )', '8 October 1983 (West Germany )'], ['6 May 1983'], ['6 April 1983'], ['21 December 1983'], ['25 April 1984'], ['15 February 1985 (USA)'], ['17 May 1984'], ['10 September 1984'], ['1983'], ['3 April 1985 (Argentina)'], ['20 February 1985'], ['20 February 1985 (Hungary)', '29 March 1985 (West Germany)'], ['1985'], ['15 January 1985 (SFR Yugoslavia)', '12 September 1985 (West Germany)'], ['6 February 1986'], ['1986 (Austria)', '23 April 1987 (West Germany)'], ['7 November 1986'], ['June 19, 1986 (Quebec)'], ['1985'], ['28 August 1987'], ['29 August 1987 ( Venice )', '7 October 1987 (France)'], ['23 April 1987 (Spain)', '5 May 1988 (Argentina)'], ['22 January 1987'], '3 September 1987', ['25 December 1987'], ['6 October 1988'], ['May 1988 ( Cannes )'], ['May 11, 1988 ( Cannes Film Festival )', 'September 13, 1988 ( TIFF )', 'October 7, 1988 (Worldwide)'], ['25 March 1988 (Spain)'], ['17 November 1988'], ['7 December 1988 (France)'], ['17 May 1989'], ['17 November 1989'], ['1989'], ['August 1990 (Locarno International Film Festival)'], ['28 March 1990 (France)'], 'N/A', ['15 February 1990'], ['29 March 1990'], ['31 January 1991'], ['August 1, 1991'], ['1 August 1991'], ['22 November 1992'], ['September 1991 ( Venice )'], ['15 April 1992'], ['1991'], ['September 1992 ( Venice )', '23 February 1993 (Netherlands)'], ['9 April 1992 (Argentina)', '30 October 1992 (Spain)'], ['1992'], ['4 December 1992'], ['1 January 1993 (Hong Kong)', '15 October 1993 (United States)'], 'N/A', ['June 8, 1993'], ['4 August 1993 (United States)'], ['21 May 1994 ( Cannes )'], ['1 September 1994 (Venice)'], ['August 3, 1994'], ['7 December 1994 (France)', '16 March 1995 (Italy)'], ['1994'], ['12 September 1995 ( TIFF )', '21 September 1995'], ['3 November 1995'], ['18 January 1995'], ['1995'], ['9 November 1995'], ['May 1996 ( Cannes )', '15 May 1996 (Czech Republic)'], ['23 April 1997 (US)', '6 June 1996 (Georgia)'], ['9 February 1996'], ['1996'], ['9 May 1996'], ['17 April 1997'], ['19 December 1996'], ['19 April 1997'], ['14 March 1997'], ['1997'], ['20 December 1997 (Italy)'], ['16 January 1998 (Switzerland)', '3 April 1998 (Brazil)'], ['February 1997 ( Fajr Film Festival )'], ['30 October 1998'], ['6 August 1998 (Argentina)', '25 September 1998 (Spain)'], ['16 April 1999 (Spain)', '19 May 1999 (France)'], ['4 August 1999 ( Locarno Film Festival )', '1 September 1999 (France)', '25 February 2000 (Spain)', '7 April 2000 (Russia)'], ['13 September 1999 (U.S.)'], ['30 April 1999'], ['25 December 1998 (Sweden)'], ['May 18, 2000 ( Cannes )', 'July 7, 2000 (Taiwan)', 'July 8, 2000 (Mainland China)', 'July 13, 2000 (Hong Kong)', 'December 8, 2000 (United States)'], ['14 May 2000 ( Cannes )', '16 June 2000 (Mexico)'], ['Czech Republic:', '16 March 2000', 'United States:', '8 June 2001', 'United Kingdom:', '31 May 2002'], ['12 April 2000'], ['1 March 2000'], ['19 September 2001 (France)', '28 September 2001 (Italy)', '10 October 2001 (Belgium)', '6 November 2001 (Slovenia)', '17 May 2002 (United Kingdom)'], ['25 April 2001 (France)', '16 August 2001 (Germany)'], ['16 March 2001 (Norway)', '19 April 2002 (U.S.)'], ['15 June 2001'], ['August 16, 2001 (Argentina)'], '27 December 2001', ['16 August 2002 (Mexico)', '8 November 2002 (Spain)'], ['24 October 2002 (China)', '21 December 2002 (Hong Kong)'], ['1 March 2002'], ['2001'], ['21 May 2003 ( Cannes )', '24 September 2003'], ['16 May 2003 (Cannes)', '26 September 2003 (Sweden)'], ['November 2, 2002'], ['2002'], 'September 4, 2003', ['3 September 2004'], ['3 September 2004 (Sweden)', '30 November 2006 (Australia)'], ['17 March 2004'], ['16 September 2004 (Germany)', '17 September 2004 (Austria)', '1 April 2005 (United Kingdom)', '8 April 2005 (United States)', '21 April 2005 (Australia)'], ['3 September 2004'], ['18 August 2005 ( Edinburgh Film Festival )', '23 December 2005 (South Africa)'], ['9 September 2005'], ['9 November 2005'], 'February 14, 2005', ['13 February 2005 ( Berlinale )', '24 February 2005 (Germany)'], ['23 March 2006'], ['24 February 2006 (Denmark)', '1 September 2006 (Sweden)'], ['May 2006 (Cannes)'], ['27 May 2006 ( Cannes )', '11 October 2006 (Spain)', '20 October 2006 (Mexico)'], ['9 September 2005 ( Toronto )'], ['22 March 2007 (Germany)', '23 March 2007 (Austria)'], ['14 February 2007 ( Berlin International Film Festival )', '8 March 2007 (Israel)'], ['September 17, 2007'], ['20 September 2007 (Russia)', '6 June 2008 (United Kingdom and United States)', '19 June 2008 (Australia)'], ['7 September 2007 ( Venice )', '20 September 2007'], ['23 August 2008 (MWFF)', '13 September 2008 (Japan)'], ['25 September 2008 (Germany)', '12 November 2008 (France)', '3 April 2009 (Czech Republic)'], ['24 May 2008 ( Cannes )', '24 September 2008 (France)'], ['10 February 2008 (Berlin International Film Festival)', '16 May 2008'], ['13 May 2008 ( Cannes )', '5 June 2008 (Israel)'], ['13 August 2009'], ['22 May 2009 ( Cannes )'], ['February 12, 2009 ( Berlinale )', 'February 13, 2009 (Spain)', 'March 12, 2009 (Peru)'], ['16 May 2009 ( Cannes )', '26 August 2009 (France)'], ['21 May 2009 ( Cannes )'], ['26 August 2010'], ['17 May 2010 ( Cannes )', '22 October 2010 (Mexico)', '3 December 2010 (Spain)'], ['18 May 2009 ( Cannes )', '11 November 2009 (Greece)'], ['4 September 2010 ( Telluride )', '17 September 2010 (Canada)'], ['21 May 2010 ( Cannes Film Festival )', '22 September 2010 (France)', '6 October 2010 (Algeria)'], ['15 February 2011 ( Berlin )', '16 March 2011 (Iran)'], ['2 February 2011'], ['14 May 2011 ( Cannes )', '2 June 2011 (Israel)'], ['2 September 2011 ( Telluride (USA) )', '15 September 2011 (Poland)'], ['8 August 2011 ( Locarno )', '11 September 2011 ( TIFF )'], ['20 May 2012 ( Cannes )', '20 September 2012 (Germany)', '24 October 2012 (France)'], ['24 August 2012'], ['18 May 2012 ( Cannes )', '9 August 2012 (Chile)', '16 November 2012 (premiere)', '15 February 2013 (US)'], ['16 February 2012 ( Berlinale )', '29 March 2012 (Denmark)'], ['17 February 2012 ( Berlin )', 'October 2012 (Canada)'], ['21 May 2013'], ['10 October 2012'], ['20 May 2012 ( Cannes )', '10 January 2013 (Denmark )'], ['19 May 2013 ( Cannes )', '21 October 2015 (France)'], ['21 May 2013 (Cannes)'], ['7 September 2013 ( TIFF )', '11 September 2013 (Poland)'], ['23 May 2014 ( Cannes )', '5 February 2015 (Russia)'], ['15 October 2013'], ['15 May 2014 ( Cannes )', '10 December 2014 (France)'], ['17 May 2014 ( Cannes )', '21 August 2014 (Argentina)', '17 October 2014 (Spain)'], ['15 May 2015 ( Cannes )', '11 June 2015 (Hungary)'], ['15 May 2015 ( Cannes )', '21 May 2015 (Colombia)'], ['19 May 2015 ( Cannes )', '17 June 2015 (France)'], ['4 September 2014 ( Venice )', '19 March 2015 (UAE)', '19 March 2015 (Jordan)', '14 August 2015 (UK)'], ['27 August 2015'], ['21 May 2016 ( Cannes )', '31 August 2016 (Iran)', '2 November 2016 (France)'], ['10 September 2015 ( TIFF )', '3 December  2015 (Denmark)'], ['25 December 2015'], ['7 September 2015 ( Venice )'], ['14 May 2016 ( Cannes )', '14 July 2016 (Germany)', '15 July 2016 (Austria)'], ['12 February 2017 ( Berlin )', '6 April 2017 (Chile)', '7 September 2017 (Germany)', '20 October 2017 (Spain)', '2 February 2018 (United States)'], ['31 August 2017 ( Venice )', '14 September 2017 (Lebanon)', '31 January 2018 (France)'], ['18 May 2017 ( Cannes )', '1 June 2017 (Russia)'], ['10 February 2017 ( Berlin )', '2 March 2017 (Hungary)'], ['20 May 2017 ( Cannes )', '25 August 2017 (Sweden)', '18 October 2017 (France)', '19 October 2017 (Germany)', '23 November 2017 (Denmark)'], ['30 August 2018 ( Venice )', '21 November 2018 (Mexico and United States)'], ['17 May 2018 ( Cannes )', '20 September 2018 (Lebanon)'], ['10 May 2018 ( Cannes )', '8 June 2018 (Poland)', '31 August 2018 (United Kingdom)', '24 October 2018 (France)'], ['4 September 2018 ( Venice )', '3 October 2018 (Germany)'], ['13 May 2018 ( Cannes )', '8 June 2018 (Japan)'], '', ['29 August 2019 ( Venice Days )', '11 October 2019 (Poland)'], ['28 January 2019 ( Sundance )'], ['15 May 2019 ( Cannes )', '20 November 2019 (France)'], ['13 March 2019 ( Madrid )', '22 March 2019 (Spain)'], ['12 September 2020 ( TIFF )', '24 September  2020 (Denmark)'], ['25 October 2019'], ['September 4, 2019 ( Venice )', 'February 28, 2020 (Romania)'], ['4 September 2020 ( Venice )']]\n"
     ]
    }
   ],
   "source": [
    "# Convert Dates into datetimes\n",
    "print([movie.get('Release date', 'N/A') for movie in movie_info_list])\n"
   ]
  },
  {
   "cell_type": "code",
   "execution_count": 87,
   "id": "4b79d396",
   "metadata": {},
   "outputs": [],
   "source": [
    "from datetime import datetime\n",
    "\n",
    "dates = [movie.get('Release date', 'N/A') for movie in movie_info_list]\n",
    "\n",
    "def clean_date(date):\n",
    "    return date.split(\"(\")[0].strip()\n",
    "\n",
    "def date_conversion(date):\n",
    "    if isinstance(date, list):\n",
    "        date = date[0]\n",
    "        \n",
    "    if date == \"N/A\":\n",
    "        return None\n",
    "        \n",
    "    date_str = clean_date(date)\n",
    "\n",
    "    fmts = [\"%B %d, %Y\", \"%d %B %Y\",\"%B %Y\"]\n",
    "    for fmt in fmts:\n",
    "        try:\n",
    "            return datetime.strptime(date_str, fmt)\n",
    "        except:\n",
    "            pass\n",
    "    return None\n"
   ]
  },
  {
   "cell_type": "code",
   "execution_count": 88,
   "id": "1b5823bd",
   "metadata": {},
   "outputs": [],
   "source": [
    "for movie in movie_info_list:\n",
    "    movie['Release date (datetime)'] = date_conversion(movie.get('Release date', 'N/A'))"
   ]
  },
  {
   "cell_type": "code",
   "execution_count": 89,
   "id": "fdda7b47",
   "metadata": {},
   "outputs": [
    {
     "data": {
      "text/plain": [
       "{'title': 'Sallah Shabati',\n",
       " 'Directed by': 'Ephraim Kishon',\n",
       " 'Produced by': 'Menahem Golan',\n",
       " 'Starring': ['Chaim Topol',\n",
       "  'Arik Einstein',\n",
       "  'Gila Almagor',\n",
       "  'Shraga Friedman'],\n",
       " 'Cinematography': 'Floyd Crosby',\n",
       " 'Release date': ['June 1964'],\n",
       " 'Running time': '110 minutes',\n",
       " 'Country': 'Israel',\n",
       " 'Language': 'Hebrew',\n",
       " 'Running time (int)': 110,\n",
       " 'Release date (datetime)': datetime.datetime(1964, 6, 1, 0, 0)}"
      ]
     },
     "execution_count": 89,
     "metadata": {},
     "output_type": "execute_result"
    }
   ],
   "source": [
    "movie_info_list[50]"
   ]
  },
  {
   "cell_type": "code",
   "execution_count": 90,
   "id": "3354c4bf",
   "metadata": {},
   "outputs": [
    {
     "name": "stdout",
     "output_type": "stream",
     "text": [
      "Counter({<class 'datetime.datetime'>: 288, <class 'NoneType'>: 43})\n"
     ]
    }
   ],
   "source": [
    "#checking the number of datetime.datetime objects\n",
    "a=[movie.get('Release date (datetime)', 'N/A') for movie in movie_info_list]\n",
    "map_object = map(type, a)\n",
    "new_list = list(map_object)\n",
    "occurrences = collections.Counter(new_list)\n",
    "print(occurrences)"
   ]
  },
  {
   "cell_type": "code",
   "execution_count": 98,
   "id": "9bdcf91e",
   "metadata": {},
   "outputs": [],
   "source": [
    "\n",
    "#def save_data(title, data):\n",
    "#    with open(title, 'w', encoding='utf-8') as f:\n",
    "#        json.dump(data, f, ensure_ascii=False, indent=2)\n",
    "#save_data(\"academy_international_movies_cleane.json\", movie_info_list)"
   ]
  },
  {
   "cell_type": "markdown",
   "id": "8a04b2af",
   "metadata": {},
   "source": [
    "#### Because Object of type datetime is not JSON serializable I will use a pickle to save the data"
   ]
  },
  {
   "cell_type": "code",
   "execution_count": 99,
   "id": "67579cac",
   "metadata": {},
   "outputs": [],
   "source": [
    "import pickle\n",
    "\n",
    "def save_data_pickle(name, data):\n",
    "    with open(name, 'wb') as f:\n",
    "        pickle.dump(data, f)"
   ]
  },
  {
   "cell_type": "code",
   "execution_count": 100,
   "id": "533ec3db",
   "metadata": {},
   "outputs": [],
   "source": [
    "import pickle\n",
    "\n",
    "def load_data_pickle(name):\n",
    "    with open(name, 'rb') as f:\n",
    "        return pickle.load(f)"
   ]
  },
  {
   "cell_type": "code",
   "execution_count": 101,
   "id": "56ec3fbf",
   "metadata": {},
   "outputs": [],
   "source": [
    "save_data_pickle(\"academy_international_movies_clean.pickle\", movie_info_list)"
   ]
  },
  {
   "cell_type": "code",
   "execution_count": 103,
   "id": "0ac17034",
   "metadata": {},
   "outputs": [],
   "source": [
    "a = load_data_pickle(\"academy_international_movies_clean.pickle\")"
   ]
  },
  {
   "cell_type": "code",
   "execution_count": 104,
   "id": "fa641d95",
   "metadata": {},
   "outputs": [
    {
     "data": {
      "text/plain": [
       "True"
      ]
     },
     "execution_count": 104,
     "metadata": {},
     "output_type": "execute_result"
    }
   ],
   "source": [
    "a == movie_info_list"
   ]
  },
  {
   "cell_type": "markdown",
   "id": "f7d0a491",
   "metadata": {},
   "source": [
    "### Attach IMDB/Rotten Tomatoes/Metascore scores "
   ]
  },
  {
   "cell_type": "code",
   "execution_count": 105,
   "id": "34dfbbfd",
   "metadata": {},
   "outputs": [],
   "source": [
    "movie_info_list = load_data_pickle('academy_international_movies_clean.pickle')"
   ]
  },
  {
   "cell_type": "markdown",
   "id": "19242673",
   "metadata": {},
   "source": [
    "The OMDb API is a RESTful web service to obtain movie information, all content and images on the site are contributed and maintained by our users.\n",
    " "
   ]
  },
  {
   "cell_type": "code",
   "execution_count": null,
   "id": "f79e7495",
   "metadata": {},
   "outputs": [],
   "source": [
    "#http://www.omdbapi.com/?apikey=[yourkey]&"
   ]
  },
  {
   "cell_type": "code",
   "execution_count": 111,
   "id": "6c2e1d5f",
   "metadata": {},
   "outputs": [
    {
     "data": {
      "text/plain": [
       "{'Title': 'Honeyland',\n",
       " 'Year': '2019',\n",
       " 'Rated': 'Unrated',\n",
       " 'Released': '26 Jul 2019',\n",
       " 'Runtime': '89 min',\n",
       " 'Genre': 'Documentary, Drama',\n",
       " 'Director': 'Tamara Kotevska, Ljubomir Stefanov',\n",
       " 'Writer': 'Tamara Kotevska, Ljubomir Stefanov',\n",
       " 'Actors': 'Hatidze Muratova, Nazife Muratova, Hussein Sam',\n",
       " 'Plot': 'The last female bee-hunter in Europe must save the bees and return the natural balance in Honeyland, when a family of nomadic beekeepers invade her land and threaten her livelihood.',\n",
       " 'Language': 'Turkish, Macedonian, Serbo-Croatian, Bosnian',\n",
       " 'Country': 'Republic of Macedonia',\n",
       " 'Awards': 'Nominated for 2 Oscars. 37 wins & 53 nominations total',\n",
       " 'Poster': 'https://m.media-amazon.com/images/M/MV5BNzYyNjFmOWEtMzQxMi00MmUwLWE4MmQtZWFhNTRkZTI0MmJmXkEyXkFqcGdeQXVyMjQwMDg0Ng@@._V1_SX300.jpg',\n",
       " 'Ratings': [{'Source': 'Internet Movie Database', 'Value': '8.0/10'},\n",
       "  {'Source': 'Rotten Tomatoes', 'Value': '100%'},\n",
       "  {'Source': 'Metacritic', 'Value': '86/100'}],\n",
       " 'Metascore': '86',\n",
       " 'imdbRating': '8.0',\n",
       " 'imdbVotes': '16,241',\n",
       " 'imdbID': 'tt8991268',\n",
       " 'Type': 'movie',\n",
       " 'DVD': '22 Oct 2019',\n",
       " 'BoxOffice': '$815,082',\n",
       " 'Production': 'N/A',\n",
       " 'Website': 'N/A',\n",
       " 'Response': 'True'}"
      ]
     },
     "execution_count": 111,
     "metadata": {},
     "output_type": "execute_result"
    }
   ],
   "source": [
    "import requests\n",
    "import urllib\n",
    "import os\n",
    "\n",
    "def get_omdb_info(title):\n",
    "    base_url = \"http://www.omdbapi.com/?\"\n",
    "    parameters = {\"apikey\": \"56c6630c\", 't': title}\n",
    "    params_encoded = urllib.parse.urlencode(parameters)\n",
    "    full_url = base_url + params_encoded\n",
    "    return requests.get(full_url).json()\n",
    "\n",
    "def get_rotten_tomato_score(omdb_info):\n",
    "    ratings = omdb_info.get('Ratings', [])\n",
    "    for rating in ratings:\n",
    "        if rating['Source'] == 'Rotten Tomatoes':\n",
    "            return rating['Value']\n",
    "    return None\n",
    "\n",
    "get_omdb_info(\"honeyland\")"
   ]
  },
  {
   "cell_type": "code",
   "execution_count": 112,
   "id": "435afa0d",
   "metadata": {},
   "outputs": [],
   "source": [
    "for movie in movie_info_list:\n",
    "    title = movie['title']\n",
    "    omdb_info = get_omdb_info(title)\n",
    "    movie['imdb'] = omdb_info.get('imdbRating', None)\n",
    "    movie['metascore'] = omdb_info.get('Metascore', None)\n",
    "    movie['rotten_tomatoes'] = get_rotten_tomato_score(omdb_info)\n",
    "    movie['plot'] =  omdb_info.get('Plot', None)\n",
    "    movie['genre'] =  omdb_info.get('Genre', None)\n",
    "    movie['awards'] =  omdb_info.get('Awards', None)"
   ]
  },
  {
   "cell_type": "code",
   "execution_count": 119,
   "id": "e30cfcd7",
   "metadata": {},
   "outputs": [
    {
     "data": {
      "text/plain": [
       "{'title': 'Les Misérables',\n",
       " 'Directed by': 'Ladj Ly',\n",
       " 'Screenplay by': ['Ladj Ly', 'Giordano Gederlini', 'Alexis Manenti'],\n",
       " 'Based on': 'Les Misérables by Ladj Ly',\n",
       " 'Produced by': ['Toufik Ayadi', 'Christophe Barral'],\n",
       " 'Starring': ['Damien Bonnard',\n",
       "  'Alexis Manenti',\n",
       "  'Djebril Zonga',\n",
       "  'Issa Percia',\n",
       "  'Al-Hassan Ly',\n",
       "  'Steve Tientcheu',\n",
       "  'Almany Kanoute',\n",
       "  'Nizar Ben Fatma'],\n",
       " 'Cinematography': 'Julien Poupard',\n",
       " 'Edited by': 'Flora Volpeliere',\n",
       " 'Music by': 'Pink Noise',\n",
       " 'Production companies': ['SRAB Films',\n",
       "  'Rectangle Productions',\n",
       "  'Lyly Films',\n",
       "  'Canal+',\n",
       "  'Ciné+',\n",
       "  'Arte',\n",
       "  'Wild Bunch',\n",
       "  'CNC'],\n",
       " 'Distributed by': 'Le Pacte',\n",
       " 'Release date': ['15 May 2019 ( Cannes )', '20 November 2019 (France)'],\n",
       " 'Running time': '103 minutes',\n",
       " 'Country': 'France',\n",
       " 'Languages': ['French', 'English'],\n",
       " 'Budget': ['€ 2.080.000', '(≃$2.5 million)'],\n",
       " 'Box office': '$19.2 million',\n",
       " 'Running time (int)': 103,\n",
       " 'Release date (datetime)': datetime.datetime(2019, 5, 15, 0, 0),\n",
       " 'imdb': '7.6',\n",
       " 'metascore': '63',\n",
       " 'rotten_tomatoes': '70%',\n",
       " 'plot': \"In 19th-century France, Jean Valjean, who for decades has been hunted by the ruthless policeman Javert after breaking parole, agrees to care for a factory worker's daughter. The decision changes their lives forever.\",\n",
       " 'genre': 'Drama, History, Musical',\n",
       " 'awards': 'Won 3 Oscars. 85 wins & 177 nominations total'}"
      ]
     },
     "execution_count": 119,
     "metadata": {},
     "output_type": "execute_result"
    }
   ],
   "source": [
    "movie_info_list[325]"
   ]
  },
  {
   "cell_type": "code",
   "execution_count": 120,
   "id": "4d406a25",
   "metadata": {},
   "outputs": [],
   "source": [
    "save_data_pickle('academy_international_movies_final.pickle', movie_info_list)"
   ]
  },
  {
   "cell_type": "code",
   "execution_count": null,
   "id": "6b495669",
   "metadata": {},
   "outputs": [],
   "source": []
  },
  {
   "cell_type": "code",
   "execution_count": null,
   "id": "41b3a6f6",
   "metadata": {},
   "outputs": [],
   "source": []
  },
  {
   "cell_type": "markdown",
   "id": "5078ec4a",
   "metadata": {},
   "source": [
    "### Save data as JSON and CSV"
   ]
  },
  {
   "cell_type": "code",
   "execution_count": 121,
   "id": "6a99a361",
   "metadata": {},
   "outputs": [],
   "source": [
    "movie_info_copy = [movie.copy() for movie in movie_info_list]"
   ]
  },
  {
   "cell_type": "code",
   "execution_count": 122,
   "id": "e471183b",
   "metadata": {},
   "outputs": [],
   "source": [
    "for movie in movie_info_copy:\n",
    "    current_date = movie['Release date (datetime)']\n",
    "    if current_date:\n",
    "        movie['Release date (datetime)'] = current_date.strftime(\"%B %d, %Y\")\n",
    "    else:\n",
    "        movie['Release date (datetime)'] = None"
   ]
  },
  {
   "cell_type": "code",
   "execution_count": 123,
   "id": "56df942e",
   "metadata": {},
   "outputs": [],
   "source": [
    "save_data(\"academy_international_movies_final.json\", movie_info_copy)"
   ]
  },
  {
   "cell_type": "markdown",
   "id": "306a82ef",
   "metadata": {},
   "source": [
    "Save data as CSV"
   ]
  },
  {
   "cell_type": "code",
   "execution_count": 124,
   "id": "19ee00fb",
   "metadata": {},
   "outputs": [],
   "source": [
    "import pandas as pd\n",
    "\n",
    "df = pd.DataFrame(movie_info_list)"
   ]
  },
  {
   "cell_type": "code",
   "execution_count": 128,
   "id": "79f0e3a4",
   "metadata": {},
   "outputs": [
    {
     "data": {
      "text/html": [
       "<div>\n",
       "<style scoped>\n",
       "    .dataframe tbody tr th:only-of-type {\n",
       "        vertical-align: middle;\n",
       "    }\n",
       "\n",
       "    .dataframe tbody tr th {\n",
       "        vertical-align: top;\n",
       "    }\n",
       "\n",
       "    .dataframe thead th {\n",
       "        text-align: right;\n",
       "    }\n",
       "</style>\n",
       "<table border=\"1\" class=\"dataframe\">\n",
       "  <thead>\n",
       "    <tr style=\"text-align: right;\">\n",
       "      <th></th>\n",
       "      <th>title</th>\n",
       "      <th>Directed by</th>\n",
       "      <th>Written by</th>\n",
       "      <th>Produced by</th>\n",
       "      <th>Starring</th>\n",
       "      <th>Cinematography</th>\n",
       "      <th>Edited by</th>\n",
       "      <th>Music by</th>\n",
       "      <th>Distributed by</th>\n",
       "      <th>Release date</th>\n",
       "      <th>...</th>\n",
       "      <th>Romanized</th>\n",
       "      <th>Russian</th>\n",
       "      <th>Hungarian</th>\n",
       "      <th>Polish</th>\n",
       "      <th>German</th>\n",
       "      <th>Hangul</th>\n",
       "      <th>Revised Romanization</th>\n",
       "      <th>McCune–Reischauer</th>\n",
       "      <th>Chinese</th>\n",
       "      <th>Romanian</th>\n",
       "    </tr>\n",
       "  </thead>\n",
       "  <tbody>\n",
       "    <tr>\n",
       "      <th>326</th>\n",
       "      <td>Pain and Glory</td>\n",
       "      <td>[Pedro Almodóvar]</td>\n",
       "      <td>Pedro Almodóvar</td>\n",
       "      <td>[Agustín Almodóvar, Esther García, Ricardo Mar...</td>\n",
       "      <td>[Antonio Banderas, Asier Etxeandia, Leonardo S...</td>\n",
       "      <td>José Luis Alcaine</td>\n",
       "      <td>Teresa Font</td>\n",
       "      <td>Alberto Iglesias</td>\n",
       "      <td>Sony Pictures Releasing International</td>\n",
       "      <td>[13 March 2019 ( Madrid ), 22 March 2019 (Spain)]</td>\n",
       "      <td>...</td>\n",
       "      <td>NaN</td>\n",
       "      <td>NaN</td>\n",
       "      <td>NaN</td>\n",
       "      <td>NaN</td>\n",
       "      <td>NaN</td>\n",
       "      <td>NaN</td>\n",
       "      <td>NaN</td>\n",
       "      <td>NaN</td>\n",
       "      <td>NaN</td>\n",
       "      <td>NaN</td>\n",
       "    </tr>\n",
       "    <tr>\n",
       "      <th>327</th>\n",
       "      <td>Another Round</td>\n",
       "      <td>Thomas Vinterberg</td>\n",
       "      <td>[Thomas Vinterberg, Tobias Lindholm]</td>\n",
       "      <td>[Sisse Graum Jørgensen, Kasper Dissing]</td>\n",
       "      <td>[Mads Mikkelsen, Thomas Bo Larsen, Magnus Mill...</td>\n",
       "      <td>Sturla Brandth Grøvlen</td>\n",
       "      <td>[Anne Østerud, Janus Billeskov Jansen]</td>\n",
       "      <td>Janus Billeskov Jansen</td>\n",
       "      <td>[Nordisk Film (Scandinavia), September Film (N...</td>\n",
       "      <td>[12 September 2020 ( TIFF ), 24 September  202...</td>\n",
       "      <td>...</td>\n",
       "      <td>NaN</td>\n",
       "      <td>NaN</td>\n",
       "      <td>NaN</td>\n",
       "      <td>NaN</td>\n",
       "      <td>NaN</td>\n",
       "      <td>NaN</td>\n",
       "      <td>NaN</td>\n",
       "      <td>NaN</td>\n",
       "      <td>NaN</td>\n",
       "      <td>NaN</td>\n",
       "    </tr>\n",
       "    <tr>\n",
       "      <th>328</th>\n",
       "      <td>Better Days</td>\n",
       "      <td>Derek Tsang</td>\n",
       "      <td>[Lam Wing Sum, Li Yuan, Xu Yimeng]</td>\n",
       "      <td>Xu Yuezhen</td>\n",
       "      <td>[Zhou Dongyu, Jackson Yee]</td>\n",
       "      <td>Yu Jing-Pin</td>\n",
       "      <td>Zhang Yibo</td>\n",
       "      <td>Varqa Buehrer</td>\n",
       "      <td>[Lian Rui Pictures, Shanghai Taopiaopiao Film ...</td>\n",
       "      <td>[25 October 2019]</td>\n",
       "      <td>...</td>\n",
       "      <td>NaN</td>\n",
       "      <td>NaN</td>\n",
       "      <td>NaN</td>\n",
       "      <td>NaN</td>\n",
       "      <td>NaN</td>\n",
       "      <td>NaN</td>\n",
       "      <td>NaN</td>\n",
       "      <td>NaN</td>\n",
       "      <td></td>\n",
       "      <td>NaN</td>\n",
       "    </tr>\n",
       "    <tr>\n",
       "      <th>329</th>\n",
       "      <td>Collective</td>\n",
       "      <td>Alexander Nanau</td>\n",
       "      <td>[Alexander Nanau, Antoaneta Opriș]</td>\n",
       "      <td>[Alexander Nanau, Bernard Michaux, Hanka Kaste...</td>\n",
       "      <td>NaN</td>\n",
       "      <td>Alexander Nanau</td>\n",
       "      <td>[Alexander Nanau, George Cragg, Dana Bunescu]</td>\n",
       "      <td>Kyan Bayani</td>\n",
       "      <td>[Bad Unicorn, HBO Europe, Magnolia Pictures, D...</td>\n",
       "      <td>[September 4, 2019 ( Venice ), February 28, 20...</td>\n",
       "      <td>...</td>\n",
       "      <td>NaN</td>\n",
       "      <td>NaN</td>\n",
       "      <td>NaN</td>\n",
       "      <td>NaN</td>\n",
       "      <td>NaN</td>\n",
       "      <td>NaN</td>\n",
       "      <td>NaN</td>\n",
       "      <td>NaN</td>\n",
       "      <td>NaN</td>\n",
       "      <td>Colectiv</td>\n",
       "    </tr>\n",
       "    <tr>\n",
       "      <th>330</th>\n",
       "      <td>The Man Who Sold His Skin</td>\n",
       "      <td>Kaouther Ben Hania</td>\n",
       "      <td>Kaouther Ben Hania</td>\n",
       "      <td>[Habib Attia, Nadim Cheikhrouha, Martin Hampel...</td>\n",
       "      <td>[Yahya Mahayni, Dea Liane, Koen De Bouw, Monic...</td>\n",
       "      <td>Christopher Aoun</td>\n",
       "      <td>Marie-Hélène Dozo</td>\n",
       "      <td>Amine Bouhafa</td>\n",
       "      <td>NaN</td>\n",
       "      <td>[4 September 2020 ( Venice )]</td>\n",
       "      <td>...</td>\n",
       "      <td>NaN</td>\n",
       "      <td>NaN</td>\n",
       "      <td>NaN</td>\n",
       "      <td>NaN</td>\n",
       "      <td>NaN</td>\n",
       "      <td>NaN</td>\n",
       "      <td>NaN</td>\n",
       "      <td>NaN</td>\n",
       "      <td>NaN</td>\n",
       "      <td>NaN</td>\n",
       "    </tr>\n",
       "  </tbody>\n",
       "</table>\n",
       "<p>5 rows × 58 columns</p>\n",
       "</div>"
      ],
      "text/plain": [
       "                         title         Directed by  \\\n",
       "326             Pain and Glory   [Pedro Almodóvar]   \n",
       "327              Another Round   Thomas Vinterberg   \n",
       "328                Better Days         Derek Tsang   \n",
       "329                 Collective     Alexander Nanau   \n",
       "330  The Man Who Sold His Skin  Kaouther Ben Hania   \n",
       "\n",
       "                               Written by  \\\n",
       "326                       Pedro Almodóvar   \n",
       "327  [Thomas Vinterberg, Tobias Lindholm]   \n",
       "328    [Lam Wing Sum, Li Yuan, Xu Yimeng]   \n",
       "329    [Alexander Nanau, Antoaneta Opriș]   \n",
       "330                    Kaouther Ben Hania   \n",
       "\n",
       "                                           Produced by  \\\n",
       "326  [Agustín Almodóvar, Esther García, Ricardo Mar...   \n",
       "327            [Sisse Graum Jørgensen, Kasper Dissing]   \n",
       "328                                         Xu Yuezhen   \n",
       "329  [Alexander Nanau, Bernard Michaux, Hanka Kaste...   \n",
       "330  [Habib Attia, Nadim Cheikhrouha, Martin Hampel...   \n",
       "\n",
       "                                              Starring  \\\n",
       "326  [Antonio Banderas, Asier Etxeandia, Leonardo S...   \n",
       "327  [Mads Mikkelsen, Thomas Bo Larsen, Magnus Mill...   \n",
       "328                         [Zhou Dongyu, Jackson Yee]   \n",
       "329                                                NaN   \n",
       "330  [Yahya Mahayni, Dea Liane, Koen De Bouw, Monic...   \n",
       "\n",
       "             Cinematography                                      Edited by  \\\n",
       "326       José Luis Alcaine                                    Teresa Font   \n",
       "327  Sturla Brandth Grøvlen         [Anne Østerud, Janus Billeskov Jansen]   \n",
       "328             Yu Jing-Pin                                     Zhang Yibo   \n",
       "329         Alexander Nanau  [Alexander Nanau, George Cragg, Dana Bunescu]   \n",
       "330        Christopher Aoun                              Marie-Hélène Dozo   \n",
       "\n",
       "                   Music by  \\\n",
       "326        Alberto Iglesias   \n",
       "327  Janus Billeskov Jansen   \n",
       "328           Varqa Buehrer   \n",
       "329             Kyan Bayani   \n",
       "330           Amine Bouhafa   \n",
       "\n",
       "                                        Distributed by  \\\n",
       "326              Sony Pictures Releasing International   \n",
       "327  [Nordisk Film (Scandinavia), September Film (N...   \n",
       "328  [Lian Rui Pictures, Shanghai Taopiaopiao Film ...   \n",
       "329  [Bad Unicorn, HBO Europe, Magnolia Pictures, D...   \n",
       "330                                                NaN   \n",
       "\n",
       "                                          Release date  ... Romanized Russian  \\\n",
       "326  [13 March 2019 ( Madrid ), 22 March 2019 (Spain)]  ...       NaN     NaN   \n",
       "327  [12 September 2020 ( TIFF ), 24 September  202...  ...       NaN     NaN   \n",
       "328                                  [25 October 2019]  ...       NaN     NaN   \n",
       "329  [September 4, 2019 ( Venice ), February 28, 20...  ...       NaN     NaN   \n",
       "330                      [4 September 2020 ( Venice )]  ...       NaN     NaN   \n",
       "\n",
       "    Hungarian Polish German Hangul Revised Romanization McCune–Reischauer  \\\n",
       "326       NaN    NaN    NaN    NaN                  NaN               NaN   \n",
       "327       NaN    NaN    NaN    NaN                  NaN               NaN   \n",
       "328       NaN    NaN    NaN    NaN                  NaN               NaN   \n",
       "329       NaN    NaN    NaN    NaN                  NaN               NaN   \n",
       "330       NaN    NaN    NaN    NaN                  NaN               NaN   \n",
       "\n",
       "    Chinese  Romanian  \n",
       "326     NaN       NaN  \n",
       "327     NaN       NaN  \n",
       "328               NaN  \n",
       "329     NaN  Colectiv  \n",
       "330     NaN       NaN  \n",
       "\n",
       "[5 rows x 58 columns]"
      ]
     },
     "execution_count": 128,
     "metadata": {},
     "output_type": "execute_result"
    }
   ],
   "source": [
    "df.tail()"
   ]
  },
  {
   "cell_type": "code",
   "execution_count": 129,
   "id": "8c83bdc6",
   "metadata": {},
   "outputs": [],
   "source": [
    "df.to_csv(\"academy_international_movies_final.csv\")"
   ]
  },
  {
   "cell_type": "code",
   "execution_count": null,
   "id": "24d191a1",
   "metadata": {},
   "outputs": [],
   "source": []
  },
  {
   "cell_type": "code",
   "execution_count": null,
   "id": "ab5237c3",
   "metadata": {},
   "outputs": [],
   "source": []
  }
 ],
 "metadata": {
  "kernelspec": {
   "display_name": "Python 3",
   "language": "python",
   "name": "python3"
  },
  "language_info": {
   "codemirror_mode": {
    "name": "ipython",
    "version": 3
   },
   "file_extension": ".py",
   "mimetype": "text/x-python",
   "name": "python",
   "nbconvert_exporter": "python",
   "pygments_lexer": "ipython3",
   "version": "3.8.8"
  }
 },
 "nbformat": 4,
 "nbformat_minor": 5
}
